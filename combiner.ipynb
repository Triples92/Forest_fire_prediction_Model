{
 "cells": [
  {
   "cell_type": "code",
   "execution_count": 60,
   "metadata": {},
   "outputs": [],
   "source": [
    "import geopandas as gpd\n",
    "import pandas as pd\n",
    "from datetime import datetime\n",
    "from shapely.wkt import loads\n",
    "from warnings import filterwarnings\n",
    "import matplotlib.pyplot as plt\n",
    "import numpy as np\n",
    "from scipy.spatial import cKDTree\n",
    "\n",
    "filterwarnings('ignore')"
   ]
  },
  {
   "cell_type": "markdown",
   "metadata": {},
   "source": [
    "In this notebook. We'll be combining the fire data and the weather data into 1 data frame. The goals of this notebook is as follows:\n",
    "\n",
    "- Find the closest 5 stations to a fire and create a dataframe based on that. We decided on 5 stations to create an average when modelling. \n",
    "- Connect the weather data to their respective stations based on Station ID and Date. "
   ]
  },
  {
   "cell_type": "markdown",
   "metadata": {},
   "source": [
    "Let's first grab the fire data below and check to make sure everything is prepped for combining"
   ]
  },
  {
   "cell_type": "code",
   "execution_count": 51,
   "metadata": {},
   "outputs": [],
   "source": [
    "fire_data = gpd.read_file('Data/Fire_Data/fire_date_geo.shp',crs='esri:102009')\n"
   ]
  },
  {
   "cell_type": "markdown",
   "metadata": {},
   "source": [
    "Let's also get the weather data:"
   ]
  },
  {
   "cell_type": "code",
   "execution_count": 10,
   "metadata": {},
   "outputs": [],
   "source": [
    "monthly_weather= pd.read_csv('Data/Monthly_Weather_Data/monthly_weather.csv',index_col=0)"
   ]
  },
  {
   "cell_type": "markdown",
   "metadata": {},
   "source": [
    "Since the weather data is in csv format, let's convert it to a geodataframe so that we can accurately determine distance between fire and weather station:"
   ]
  },
  {
   "cell_type": "code",
   "execution_count": 226,
   "metadata": {},
   "outputs": [],
   "source": [
    "weather_shp=gpd.GeoDataFrame(monthly_weather,geometry=gpd.points_from_xy(monthly_weather['Longitude (x)'],monthly_weather['Latitude (y)']),crs=4326)"
   ]
  },
  {
   "cell_type": "markdown",
   "metadata": {},
   "source": [
    "Let's now check the CRS for both the fire and Weather data. Remeber, a Coordinate reference system (CRS) defines, with the help of coordinates, how the two-dimensional, projected map is related to real locations on the earth:"
   ]
  },
  {
   "cell_type": "code",
   "execution_count": 52,
   "metadata": {},
   "outputs": [
    {
     "data": {
      "text/plain": [
       "<Projected CRS: PROJCS[\"NAD_1983_Lambert_Conformal_Conic\",GEOGCS[\" ...>\n",
       "Name: NAD_1983_Lambert_Conformal_Conic\n",
       "Axis Info [cartesian]:\n",
       "- [east]: Easting (metre)\n",
       "- [north]: Northing (metre)\n",
       "Area of Use:\n",
       "- undefined\n",
       "Coordinate Operation:\n",
       "- name: unnamed\n",
       "- method: Lambert Conic Conformal (2SP)\n",
       "Datum: North American Datum 1983\n",
       "- Ellipsoid: GRS 1980\n",
       "- Prime Meridian: Greenwich"
      ]
     },
     "execution_count": 52,
     "metadata": {},
     "output_type": "execute_result"
    }
   ],
   "source": [
    "fire_data['geometry'].crs"
   ]
  },
  {
   "cell_type": "markdown",
   "metadata": {},
   "source": [
    "Despite the `shp` file's CRS being set as 102009, it appears that the bounds are undefined. The bounds help us map the points based on a geographic space. If the bounds are not set, the distance between the points may be inaccurate. Let's reset the crs and ensure the bounds are defined:"
   ]
  },
  {
   "cell_type": "code",
   "execution_count": 53,
   "metadata": {},
   "outputs": [],
   "source": [
    "fire_data=fire_data.set_crs('esri:102009',allow_override=True)"
   ]
  },
  {
   "cell_type": "code",
   "execution_count": 54,
   "metadata": {},
   "outputs": [
    {
     "data": {
      "text/plain": [
       "<Projected CRS: ESRI:102009>\n",
       "Name: North_America_Lambert_Conformal_Conic\n",
       "Axis Info [cartesian]:\n",
       "- E[east]: Easting (metre)\n",
       "- N[north]: Northing (metre)\n",
       "Area of Use:\n",
       "- name: North America - onshore and offshore: Canada - Alberta; British Columbia; Manitoba; New Brunswick; Newfoundland and Labrador; Northwest Territories; Nova Scotia; Nunavut; Ontario; Prince Edward Island; Quebec; Saskatchewan; Yukon. United States (USA) - Alabama; Alaska (mainland); Arizona; Arkansas; California; Colorado; Connecticut; Delaware; Florida; Georgia; Idaho; Illinois; Indiana; Iowa; Kansas; Kentucky; Louisiana; Maine; Maryland; Massachusetts; Michigan; Minnesota; Mississippi; Missouri; Montana; Nebraska; Nevada; New Hampshire; New Jersey; New Mexico; New York; North Carolina; North Dakota; Ohio; Oklahoma; Oregon; Pennsylvania; Rhode Island; South Carolina; South Dakota; Tennessee; Texas; Utah; Vermont; Virginia; Washington; West Virginia; Wisconsin; Wyoming.\n",
       "- bounds: (-172.54, 23.81, -47.74, 86.46)\n",
       "Coordinate Operation:\n",
       "- name: North_America_Lambert_Conformal_Conic\n",
       "- method: Lambert Conic Conformal (2SP)\n",
       "Datum: North American Datum 1983\n",
       "- Ellipsoid: GRS 1980\n",
       "- Prime Meridian: Greenwich"
      ]
     },
     "execution_count": 54,
     "metadata": {},
     "output_type": "execute_result"
    }
   ],
   "source": [
    "fire_data.crs"
   ]
  },
  {
   "cell_type": "markdown",
   "metadata": {},
   "source": [
    "Now that the bounds are set, let's look at the weather data:"
   ]
  },
  {
   "cell_type": "code",
   "execution_count": 227,
   "metadata": {},
   "outputs": [
    {
     "data": {
      "text/plain": [
       "<Geographic 2D CRS: EPSG:4326>\n",
       "Name: WGS 84\n",
       "Axis Info [ellipsoidal]:\n",
       "- Lat[north]: Geodetic latitude (degree)\n",
       "- Lon[east]: Geodetic longitude (degree)\n",
       "Area of Use:\n",
       "- name: World.\n",
       "- bounds: (-180.0, -90.0, 180.0, 90.0)\n",
       "Datum: World Geodetic System 1984 ensemble\n",
       "- Ellipsoid: WGS 84\n",
       "- Prime Meridian: Greenwich"
      ]
     },
     "execution_count": 227,
     "metadata": {},
     "output_type": "execute_result"
    }
   ],
   "source": [
    "weather_shp.crs"
   ]
  },
  {
   "cell_type": "markdown",
   "metadata": {},
   "source": [
    "We notice that the CRS codes are different. We'll have to match them before we merge the tables. For now let's look at a sample of the data we have: "
   ]
  },
  {
   "cell_type": "code",
   "execution_count": 7,
   "metadata": {},
   "outputs": [
    {
     "data": {
      "text/html": [
       "<div>\n",
       "<style scoped>\n",
       "    .dataframe tbody tr th:only-of-type {\n",
       "        vertical-align: middle;\n",
       "    }\n",
       "\n",
       "    .dataframe tbody tr th {\n",
       "        vertical-align: top;\n",
       "    }\n",
       "\n",
       "    .dataframe thead th {\n",
       "        text-align: right;\n",
       "    }\n",
       "</style>\n",
       "<table border=\"1\" class=\"dataframe\">\n",
       "  <thead>\n",
       "    <tr style=\"text-align: right;\">\n",
       "      <th></th>\n",
       "      <th>YEAR</th>\n",
       "      <th>MONTH</th>\n",
       "      <th>SRC_AGY2</th>\n",
       "      <th>geometry</th>\n",
       "    </tr>\n",
       "  </thead>\n",
       "  <tbody>\n",
       "    <tr>\n",
       "      <th>0</th>\n",
       "      <td>2004</td>\n",
       "      <td>6</td>\n",
       "      <td>BC</td>\n",
       "      <td>POLYGON Z ((-1886926.467 898021.006 0.000, -18...</td>\n",
       "    </tr>\n",
       "    <tr>\n",
       "      <th>1</th>\n",
       "      <td>2004</td>\n",
       "      <td>6</td>\n",
       "      <td>BC</td>\n",
       "      <td>POLYGON Z ((-1880308.251 892344.865 0.000, -18...</td>\n",
       "    </tr>\n",
       "    <tr>\n",
       "      <th>2</th>\n",
       "      <td>2004</td>\n",
       "      <td>6</td>\n",
       "      <td>BC</td>\n",
       "      <td>POLYGON Z ((-1965048.293 820512.199 0.000, -19...</td>\n",
       "    </tr>\n",
       "    <tr>\n",
       "      <th>3</th>\n",
       "      <td>2004</td>\n",
       "      <td>6</td>\n",
       "      <td>BC</td>\n",
       "      <td>POLYGON Z ((-1995073.527 854615.146 0.000, -19...</td>\n",
       "    </tr>\n",
       "    <tr>\n",
       "      <th>4</th>\n",
       "      <td>2004</td>\n",
       "      <td>6</td>\n",
       "      <td>BC</td>\n",
       "      <td>POLYGON Z ((-1988211.829 940418.674 0.000, -19...</td>\n",
       "    </tr>\n",
       "  </tbody>\n",
       "</table>\n",
       "</div>"
      ],
      "text/plain": [
       "   YEAR  MONTH SRC_AGY2                                           geometry\n",
       "0  2004      6       BC  POLYGON Z ((-1886926.467 898021.006 0.000, -18...\n",
       "1  2004      6       BC  POLYGON Z ((-1880308.251 892344.865 0.000, -18...\n",
       "2  2004      6       BC  POLYGON Z ((-1965048.293 820512.199 0.000, -19...\n",
       "3  2004      6       BC  POLYGON Z ((-1995073.527 854615.146 0.000, -19...\n",
       "4  2004      6       BC  POLYGON Z ((-1988211.829 940418.674 0.000, -19..."
      ]
     },
     "execution_count": 7,
     "metadata": {},
     "output_type": "execute_result"
    }
   ],
   "source": [
    "fire_data.head()"
   ]
  },
  {
   "cell_type": "markdown",
   "metadata": {},
   "source": [
    "Let's now make a list of stations that we'll use to merge the stations and fire data by distance:"
   ]
  },
  {
   "cell_type": "code",
   "execution_count": 230,
   "metadata": {},
   "outputs": [],
   "source": [
    "list_stations= weather_shp[['Climate ID','geometry']]"
   ]
  },
  {
   "cell_type": "markdown",
   "metadata": {},
   "source": [
    "We have a list of all the stations in our dataframe, since it's listing weather information on a monthly bases, we will have multiple duplicates of our station numbers. Let's drop duplicates so we only have a list of unique `Climate ID`s."
   ]
  },
  {
   "cell_type": "code",
   "execution_count": 23,
   "metadata": {},
   "outputs": [],
   "source": [
    "list_stations.drop_duplicates(inplace=True,ignore_index=True)"
   ]
  },
  {
   "cell_type": "code",
   "execution_count": 24,
   "metadata": {},
   "outputs": [],
   "source": [
    "weather_shp.drop_duplicates(inplace=True)"
   ]
  },
  {
   "cell_type": "code",
   "execution_count": 25,
   "metadata": {},
   "outputs": [],
   "source": [
    "list_stations=gpd.GeoDataFrame(list_stations)"
   ]
  },
  {
   "cell_type": "markdown",
   "metadata": {},
   "source": [
    "Let's now confirm that the crs is still the same for our new list:"
   ]
  },
  {
   "cell_type": "code",
   "execution_count": 231,
   "metadata": {},
   "outputs": [
    {
     "data": {
      "text/plain": [
       "<Geographic 2D CRS: EPSG:4326>\n",
       "Name: WGS 84\n",
       "Axis Info [ellipsoidal]:\n",
       "- Lat[north]: Geodetic latitude (degree)\n",
       "- Lon[east]: Geodetic longitude (degree)\n",
       "Area of Use:\n",
       "- name: World.\n",
       "- bounds: (-180.0, -90.0, 180.0, 90.0)\n",
       "Datum: World Geodetic System 1984 ensemble\n",
       "- Ellipsoid: WGS 84\n",
       "- Prime Meridian: Greenwich"
      ]
     },
     "execution_count": 231,
     "metadata": {},
     "output_type": "execute_result"
    }
   ],
   "source": [
    "list_stations.crs"
   ]
  },
  {
   "cell_type": "code",
   "execution_count": 32,
   "metadata": {},
   "outputs": [
    {
     "data": {
      "text/plain": [
       "(430, 2)"
      ]
     },
     "execution_count": 32,
     "metadata": {},
     "output_type": "execute_result"
    }
   ],
   "source": [
    "list_stations.shape"
   ]
  },
  {
   "cell_type": "code",
   "execution_count": 232,
   "metadata": {},
   "outputs": [
    {
     "data": {
      "text/html": [
       "<div>\n",
       "<style scoped>\n",
       "    .dataframe tbody tr th:only-of-type {\n",
       "        vertical-align: middle;\n",
       "    }\n",
       "\n",
       "    .dataframe tbody tr th {\n",
       "        vertical-align: top;\n",
       "    }\n",
       "\n",
       "    .dataframe thead th {\n",
       "        text-align: right;\n",
       "    }\n",
       "</style>\n",
       "<table border=\"1\" class=\"dataframe\">\n",
       "  <thead>\n",
       "    <tr style=\"text-align: right;\">\n",
       "      <th></th>\n",
       "      <th>Climate ID</th>\n",
       "      <th>geometry</th>\n",
       "    </tr>\n",
       "  </thead>\n",
       "  <tbody>\n",
       "    <tr>\n",
       "      <th>0</th>\n",
       "      <td>1011500</td>\n",
       "      <td>POINT (-123.74000 48.94000)</td>\n",
       "    </tr>\n",
       "    <tr>\n",
       "      <th>1</th>\n",
       "      <td>1011500</td>\n",
       "      <td>POINT (-123.74000 48.94000)</td>\n",
       "    </tr>\n",
       "    <tr>\n",
       "      <th>2</th>\n",
       "      <td>1011500</td>\n",
       "      <td>POINT (-123.74000 48.94000)</td>\n",
       "    </tr>\n",
       "    <tr>\n",
       "      <th>3</th>\n",
       "      <td>1011500</td>\n",
       "      <td>POINT (-123.74000 48.94000)</td>\n",
       "    </tr>\n",
       "    <tr>\n",
       "      <th>4</th>\n",
       "      <td>1011500</td>\n",
       "      <td>POINT (-123.74000 48.94000)</td>\n",
       "    </tr>\n",
       "    <tr>\n",
       "      <th>...</th>\n",
       "      <td>...</td>\n",
       "      <td>...</td>\n",
       "    </tr>\n",
       "    <tr>\n",
       "      <th>161498</th>\n",
       "      <td>709CEE9</td>\n",
       "      <td>POINT (-78.28000 48.80000)</td>\n",
       "    </tr>\n",
       "    <tr>\n",
       "      <th>161499</th>\n",
       "      <td>709CEE9</td>\n",
       "      <td>POINT (-78.28000 48.80000)</td>\n",
       "    </tr>\n",
       "    <tr>\n",
       "      <th>161500</th>\n",
       "      <td>709CEE9</td>\n",
       "      <td>POINT (-78.28000 48.80000)</td>\n",
       "    </tr>\n",
       "    <tr>\n",
       "      <th>161501</th>\n",
       "      <td>709CEE9</td>\n",
       "      <td>POINT (-78.28000 48.80000)</td>\n",
       "    </tr>\n",
       "    <tr>\n",
       "      <th>161502</th>\n",
       "      <td>709CEE9</td>\n",
       "      <td>POINT (-78.28000 48.80000)</td>\n",
       "    </tr>\n",
       "  </tbody>\n",
       "</table>\n",
       "<p>161503 rows × 2 columns</p>\n",
       "</div>"
      ],
      "text/plain": [
       "       Climate ID                     geometry\n",
       "0         1011500  POINT (-123.74000 48.94000)\n",
       "1         1011500  POINT (-123.74000 48.94000)\n",
       "2         1011500  POINT (-123.74000 48.94000)\n",
       "3         1011500  POINT (-123.74000 48.94000)\n",
       "4         1011500  POINT (-123.74000 48.94000)\n",
       "...           ...                          ...\n",
       "161498    709CEE9   POINT (-78.28000 48.80000)\n",
       "161499    709CEE9   POINT (-78.28000 48.80000)\n",
       "161500    709CEE9   POINT (-78.28000 48.80000)\n",
       "161501    709CEE9   POINT (-78.28000 48.80000)\n",
       "161502    709CEE9   POINT (-78.28000 48.80000)\n",
       "\n",
       "[161503 rows x 2 columns]"
      ]
     },
     "execution_count": 232,
     "metadata": {},
     "output_type": "execute_result"
    }
   ],
   "source": [
    "list_stations"
   ]
  },
  {
   "cell_type": "markdown",
   "metadata": {},
   "source": [
    "Let's change the `fire_data` to match the coordinate system of our `list_stations` data before we start merging. "
   ]
  },
  {
   "cell_type": "code",
   "execution_count": 125,
   "metadata": {},
   "outputs": [],
   "source": [
    "fire_data=fire_data.to_crs(crs=4326)"
   ]
  },
  {
   "cell_type": "markdown",
   "metadata": {},
   "source": [
    "### Using cKDTree to find the nearest fires to the respective stations.  "
   ]
  },
  {
   "cell_type": "markdown",
   "metadata": {},
   "source": [
    "The cKDTree class provides an index into a set of k-dimensional points which can be used to rapidly look up the nearest neighbors of any point. this is the most effecient way of merging data based on distance."
   ]
  },
  {
   "cell_type": "code",
   "execution_count": null,
   "metadata": {},
   "outputs": [],
   "source": []
  },
  {
   "cell_type": "markdown",
   "metadata": {},
   "source": [
    "Let's start with first extracting the coordinates."
   ]
  },
  {
   "cell_type": "code",
   "execution_count": 143,
   "metadata": {},
   "outputs": [],
   "source": [
    "\n",
    "# Extract coordinates\n",
    "fire_coords = fire_data.geometry.apply(lambda geom: (geom.centroid.x, geom.centroid.y)).tolist()\n",
    "station_coords = list_stations.geometry.apply(lambda geom: (geom.x, geom.y)).tolist()\n",
    "\n"
   ]
  },
  {
   "cell_type": "markdown",
   "metadata": {},
   "source": [
    "Now we'll build the tree. We're going to use the station coordinates as a reference point, so that when we are looking at the fire coordinates, we are measuring the distance between them"
   ]
  },
  {
   "cell_type": "code",
   "execution_count": 144,
   "metadata": {},
   "outputs": [],
   "source": [
    "# Build KDTree\n",
    "tree = cKDTree(station_coords)\n"
   ]
  },
  {
   "cell_type": "markdown",
   "metadata": {},
   "source": [
    "`.query()` is the function that will get us the distance between coordinates. We're collecting the distances and indicies to be able to create a new Dataframe with the connection. `k=5` means that we'll be looking at the top 5 nearest neighbours while `p=2` is referencing the use of the `Euclidean distance`."
   ]
  },
  {
   "cell_type": "code",
   "execution_count": 145,
   "metadata": {},
   "outputs": [],
   "source": [
    "\n",
    "# Query for nearest stations\n",
    "distances, indices = tree.query(fire_coords, k=5,p=2)\n"
   ]
  },
  {
   "cell_type": "code",
   "execution_count": 233,
   "metadata": {},
   "outputs": [
    {
     "data": {
      "text/plain": [
       "array([[2.80887921, 2.87810565, 2.88043013, 3.02735922, 3.04142161],\n",
       "       [2.88839054, 2.96130313, 2.9684149 , 3.10751746, 3.12095583],\n",
       "       [3.51319008, 3.5134173 , 3.55066469, 3.70396395, 3.71699966],\n",
       "       ...,\n",
       "       [1.34498919, 1.6041456 , 2.02475476, 2.27689879, 2.39921112],\n",
       "       [1.08442195, 1.88584185, 2.23497577, 2.95078277, 3.01156395],\n",
       "       [1.14448434, 1.9500969 , 2.30103576, 3.0323819 , 3.05382225]])"
      ]
     },
     "execution_count": 233,
     "metadata": {},
     "output_type": "execute_result"
    }
   ],
   "source": [
    "distances"
   ]
  },
  {
   "cell_type": "code",
   "execution_count": 235,
   "metadata": {},
   "outputs": [
    {
     "data": {
      "text/plain": [
       "array([[ 12,   2,   4, 400,   8],\n",
       "       [ 12,   2,   4, 400,   8],\n",
       "       [  4,  12,   2,   3, 400],\n",
       "       ...,\n",
       "       [145, 141, 144, 101, 108],\n",
       "       [109,  64,  62,  60, 144],\n",
       "       [109,  64,  62,  60, 144]])"
      ]
     },
     "execution_count": 235,
     "metadata": {},
     "output_type": "execute_result"
    }
   ],
   "source": [
    "indices"
   ]
  },
  {
   "cell_type": "markdown",
   "metadata": {},
   "source": [
    "Let's create the dataframe with the stations and fires merged by distance:"
   ]
  },
  {
   "cell_type": "code",
   "execution_count": 218,
   "metadata": {},
   "outputs": [],
   "source": [
    "\n",
    "# Construct the result dataframe\n",
    "results = []\n",
    "for i, fire in fire_data.iterrows():\n",
    "    nearest_stations = list_stations.iloc[indices[i]].copy()\n",
    "    nearest_stations['YEAR']=fire['YEAR']\n",
    "    nearest_stations['MONTH']=fire['MONTH']\n",
    "    nearest_stations['fire_index'] = i\n",
    "    nearest_stations['distance'] = distances[i]\n",
    "    results.append(nearest_stations)\n",
    "\n",
    "result_df = pd.concat(results).reset_index(drop=True)\n",
    "\n",
    "#merge with forest fires data\n",
    "result_df = result_df.merge(fire_data[['geometry']], left_on='fire_index', right_index=True)"
   ]
  },
  {
   "cell_type": "markdown",
   "metadata": {},
   "source": [
    "Let's confirm that the distances have been measured correctly. We can do that by confirming that a majority of our stations are assigned to atleast 1 fire occurance:"
   ]
  },
  {
   "cell_type": "code",
   "execution_count": 198,
   "metadata": {},
   "outputs": [
    {
     "data": {
      "text/plain": [
       "Climate ID\n",
       "5022125    4916\n",
       "5021220    4815\n",
       "5010140    4194\n",
       "5022575    3755\n",
       "6020559    3575\n",
       "           ... \n",
       "7028200       1\n",
       "7012071       1\n",
       "7014332       1\n",
       "7016960       1\n",
       "704FEG0       1\n",
       "Name: count, Length: 384, dtype: int64"
      ]
     },
     "execution_count": 198,
     "metadata": {},
     "output_type": "execute_result"
    }
   ],
   "source": [
    "result_df['Climate ID'].value_counts()"
   ]
  },
  {
   "cell_type": "markdown",
   "metadata": {},
   "source": [
    "Let's take a sample look at the full table"
   ]
  },
  {
   "cell_type": "code",
   "execution_count": 219,
   "metadata": {},
   "outputs": [
    {
     "data": {
      "text/html": [
       "<div>\n",
       "<style scoped>\n",
       "    .dataframe tbody tr th:only-of-type {\n",
       "        vertical-align: middle;\n",
       "    }\n",
       "\n",
       "    .dataframe tbody tr th {\n",
       "        vertical-align: top;\n",
       "    }\n",
       "\n",
       "    .dataframe thead th {\n",
       "        text-align: right;\n",
       "    }\n",
       "</style>\n",
       "<table border=\"1\" class=\"dataframe\">\n",
       "  <thead>\n",
       "    <tr style=\"text-align: right;\">\n",
       "      <th></th>\n",
       "      <th>Climate ID</th>\n",
       "      <th>geometry_x</th>\n",
       "      <th>YEAR</th>\n",
       "      <th>MONTH</th>\n",
       "      <th>fire_index</th>\n",
       "      <th>distance</th>\n",
       "      <th>geometry_y</th>\n",
       "    </tr>\n",
       "  </thead>\n",
       "  <tbody>\n",
       "    <tr>\n",
       "      <th>0</th>\n",
       "      <td>1018611</td>\n",
       "      <td>POINT (-123.320 48.410)</td>\n",
       "      <td>2004</td>\n",
       "      <td>6</td>\n",
       "      <td>0</td>\n",
       "      <td>2.808879</td>\n",
       "      <td>POLYGON Z ((-122.16984 45.86643 0.00000, -122....</td>\n",
       "    </tr>\n",
       "    <tr>\n",
       "      <th>1</th>\n",
       "      <td>1012710</td>\n",
       "      <td>POINT (-123.440 48.430)</td>\n",
       "      <td>2004</td>\n",
       "      <td>6</td>\n",
       "      <td>0</td>\n",
       "      <td>2.878106</td>\n",
       "      <td>POLYGON Z ((-122.16984 45.86643 0.00000, -122....</td>\n",
       "    </tr>\n",
       "    <tr>\n",
       "      <th>2</th>\n",
       "      <td>1015105</td>\n",
       "      <td>POINT (-123.560 48.370)</td>\n",
       "      <td>2004</td>\n",
       "      <td>6</td>\n",
       "      <td>0</td>\n",
       "      <td>2.880430</td>\n",
       "      <td>POLYGON Z ((-122.16984 45.86643 0.00000, -122....</td>\n",
       "    </tr>\n",
       "    <tr>\n",
       "      <th>3</th>\n",
       "      <td>1016RM0</td>\n",
       "      <td>POINT (-123.430 48.600)</td>\n",
       "      <td>2004</td>\n",
       "      <td>6</td>\n",
       "      <td>0</td>\n",
       "      <td>3.027359</td>\n",
       "      <td>POLYGON Z ((-122.16984 45.86643 0.00000, -122....</td>\n",
       "    </tr>\n",
       "    <tr>\n",
       "      <th>4</th>\n",
       "      <td>1016940</td>\n",
       "      <td>POINT (-123.420 48.620)</td>\n",
       "      <td>2004</td>\n",
       "      <td>6</td>\n",
       "      <td>0</td>\n",
       "      <td>3.041422</td>\n",
       "      <td>POLYGON Z ((-122.16984 45.86643 0.00000, -122....</td>\n",
       "    </tr>\n",
       "    <tr>\n",
       "      <th>...</th>\n",
       "      <td>...</td>\n",
       "      <td>...</td>\n",
       "      <td>...</td>\n",
       "      <td>...</td>\n",
       "      <td>...</td>\n",
       "      <td>...</td>\n",
       "      <td>...</td>\n",
       "    </tr>\n",
       "    <tr>\n",
       "      <th>134370</th>\n",
       "      <td>1181508</td>\n",
       "      <td>POINT (-121.630 55.690)</td>\n",
       "      <td>1992</td>\n",
       "      <td>7</td>\n",
       "      <td>26874</td>\n",
       "      <td>1.144484</td>\n",
       "      <td>MULTIPOLYGON Z (((-122.77133 55.84941 0.00000,...</td>\n",
       "    </tr>\n",
       "    <tr>\n",
       "      <th>134371</th>\n",
       "      <td>1096468</td>\n",
       "      <td>POINT (-122.770 53.880)</td>\n",
       "      <td>1992</td>\n",
       "      <td>7</td>\n",
       "      <td>26874</td>\n",
       "      <td>1.950097</td>\n",
       "      <td>MULTIPOLYGON Z (((-122.77133 55.84941 0.00000,...</td>\n",
       "    </tr>\n",
       "    <tr>\n",
       "      <th>134372</th>\n",
       "      <td>1093474</td>\n",
       "      <td>POINT (-122.700 53.530)</td>\n",
       "      <td>1992</td>\n",
       "      <td>7</td>\n",
       "      <td>26874</td>\n",
       "      <td>2.301036</td>\n",
       "      <td>MULTIPOLYGON Z (((-122.77133 55.84941 0.00000,...</td>\n",
       "    </tr>\n",
       "    <tr>\n",
       "      <th>134373</th>\n",
       "      <td>1090660</td>\n",
       "      <td>POINT (-121.510 53.070)</td>\n",
       "      <td>1992</td>\n",
       "      <td>7</td>\n",
       "      <td>26874</td>\n",
       "      <td>3.032382</td>\n",
       "      <td>MULTIPOLYGON Z (((-122.77133 55.84941 0.00000,...</td>\n",
       "    </tr>\n",
       "    <tr>\n",
       "      <th>134374</th>\n",
       "      <td>3074935</td>\n",
       "      <td>POINT (-119.750 56.310)</td>\n",
       "      <td>1992</td>\n",
       "      <td>7</td>\n",
       "      <td>26874</td>\n",
       "      <td>3.053822</td>\n",
       "      <td>MULTIPOLYGON Z (((-122.77133 55.84941 0.00000,...</td>\n",
       "    </tr>\n",
       "  </tbody>\n",
       "</table>\n",
       "<p>134375 rows × 7 columns</p>\n",
       "</div>"
      ],
      "text/plain": [
       "       Climate ID               geometry_x  YEAR  MONTH  fire_index  distance  \\\n",
       "0         1018611  POINT (-123.320 48.410)  2004      6           0  2.808879   \n",
       "1         1012710  POINT (-123.440 48.430)  2004      6           0  2.878106   \n",
       "2         1015105  POINT (-123.560 48.370)  2004      6           0  2.880430   \n",
       "3         1016RM0  POINT (-123.430 48.600)  2004      6           0  3.027359   \n",
       "4         1016940  POINT (-123.420 48.620)  2004      6           0  3.041422   \n",
       "...           ...                      ...   ...    ...         ...       ...   \n",
       "134370    1181508  POINT (-121.630 55.690)  1992      7       26874  1.144484   \n",
       "134371    1096468  POINT (-122.770 53.880)  1992      7       26874  1.950097   \n",
       "134372    1093474  POINT (-122.700 53.530)  1992      7       26874  2.301036   \n",
       "134373    1090660  POINT (-121.510 53.070)  1992      7       26874  3.032382   \n",
       "134374    3074935  POINT (-119.750 56.310)  1992      7       26874  3.053822   \n",
       "\n",
       "                                               geometry_y  \n",
       "0       POLYGON Z ((-122.16984 45.86643 0.00000, -122....  \n",
       "1       POLYGON Z ((-122.16984 45.86643 0.00000, -122....  \n",
       "2       POLYGON Z ((-122.16984 45.86643 0.00000, -122....  \n",
       "3       POLYGON Z ((-122.16984 45.86643 0.00000, -122....  \n",
       "4       POLYGON Z ((-122.16984 45.86643 0.00000, -122....  \n",
       "...                                                   ...  \n",
       "134370  MULTIPOLYGON Z (((-122.77133 55.84941 0.00000,...  \n",
       "134371  MULTIPOLYGON Z (((-122.77133 55.84941 0.00000,...  \n",
       "134372  MULTIPOLYGON Z (((-122.77133 55.84941 0.00000,...  \n",
       "134373  MULTIPOLYGON Z (((-122.77133 55.84941 0.00000,...  \n",
       "134374  MULTIPOLYGON Z (((-122.77133 55.84941 0.00000,...  \n",
       "\n",
       "[134375 rows x 7 columns]"
      ]
     },
     "execution_count": 219,
     "metadata": {},
     "output_type": "execute_result"
    }
   ],
   "source": [
    "result_df"
   ]
  },
  {
   "cell_type": "code",
   "execution_count": 201,
   "metadata": {},
   "outputs": [
    {
     "data": {
      "text/plain": [
       "0"
      ]
     },
     "execution_count": 201,
     "metadata": {},
     "output_type": "execute_result"
    }
   ],
   "source": [
    "#confirming there's no missing data\n",
    "weather_shp.Date.isna().sum()"
   ]
  },
  {
   "cell_type": "markdown",
   "metadata": {},
   "source": [
    "Let's change the `Date` column to datetime so that we can extract the month and year. "
   ]
  },
  {
   "cell_type": "code",
   "execution_count": 202,
   "metadata": {},
   "outputs": [],
   "source": [
    "weather_shp['Date']=pd.to_datetime(weather_shp['Date'])"
   ]
  },
  {
   "cell_type": "code",
   "execution_count": 183,
   "metadata": {},
   "outputs": [],
   "source": [
    "#extract month and year by creating new columns\n",
    "\n",
    "weather_shp['MONTH'] = weather_shp['Date'].dt.month\n",
    "weather_shp['YEAR'] = weather_shp['Date'].dt.year"
   ]
  },
  {
   "cell_type": "markdown",
   "metadata": {},
   "source": [
    "Now finally, we will merge the weather data based on `Month`, `YEAR`, and `Climate ID`. We are using an outer merge to capture all the stations that don't have any fires associated to them(i.e stations with data from winter months)."
   ]
  },
  {
   "cell_type": "code",
   "execution_count": 220,
   "metadata": {},
   "outputs": [],
   "source": [
    "merged_df = pd.merge(result_df, weather_shp, how='outer', on=['MONTH','YEAR','Climate ID'])"
   ]
  },
  {
   "cell_type": "code",
   "execution_count": 221,
   "metadata": {},
   "outputs": [
    {
     "data": {
      "text/html": [
       "<div>\n",
       "<style scoped>\n",
       "    .dataframe tbody tr th:only-of-type {\n",
       "        vertical-align: middle;\n",
       "    }\n",
       "\n",
       "    .dataframe tbody tr th {\n",
       "        vertical-align: top;\n",
       "    }\n",
       "\n",
       "    .dataframe thead th {\n",
       "        text-align: right;\n",
       "    }\n",
       "</style>\n",
       "<table border=\"1\" class=\"dataframe\">\n",
       "  <thead>\n",
       "    <tr style=\"text-align: right;\">\n",
       "      <th></th>\n",
       "      <th>Climate ID</th>\n",
       "      <th>geometry_x</th>\n",
       "      <th>YEAR</th>\n",
       "      <th>MONTH</th>\n",
       "      <th>fire_index</th>\n",
       "      <th>distance</th>\n",
       "      <th>geometry_y</th>\n",
       "      <th>Longitude (x)</th>\n",
       "      <th>Latitude (y)</th>\n",
       "      <th>Date</th>\n",
       "      <th>Mean Temp (°C)</th>\n",
       "      <th>Total Snow (cm)</th>\n",
       "      <th>Total Precip (mm)</th>\n",
       "      <th>geometry</th>\n",
       "    </tr>\n",
       "  </thead>\n",
       "  <tbody>\n",
       "    <tr>\n",
       "      <th>123427</th>\n",
       "      <td>8100468</td>\n",
       "      <td>None</td>\n",
       "      <td>2012</td>\n",
       "      <td>6</td>\n",
       "      <td>NaN</td>\n",
       "      <td>NaN</td>\n",
       "      <td>None</td>\n",
       "      <td>-64.87</td>\n",
       "      <td>47.80</td>\n",
       "      <td>2012-06-30</td>\n",
       "      <td>NaN</td>\n",
       "      <td>0.000000</td>\n",
       "      <td>3.700000</td>\n",
       "      <td>POINT (-64.870 47.800)</td>\n",
       "    </tr>\n",
       "    <tr>\n",
       "      <th>27634</th>\n",
       "      <td>2402684</td>\n",
       "      <td>None</td>\n",
       "      <td>1991</td>\n",
       "      <td>3</td>\n",
       "      <td>NaN</td>\n",
       "      <td>NaN</td>\n",
       "      <td>None</td>\n",
       "      <td>-75.14</td>\n",
       "      <td>68.90</td>\n",
       "      <td>1991-03-31</td>\n",
       "      <td>-24.157692</td>\n",
       "      <td>0.232258</td>\n",
       "      <td>0.232258</td>\n",
       "      <td>POINT (-75.140 68.900)</td>\n",
       "    </tr>\n",
       "    <tr>\n",
       "      <th>45423</th>\n",
       "      <td>1135126</td>\n",
       "      <td>POINT (-118.770 49.000)</td>\n",
       "      <td>1999</td>\n",
       "      <td>4</td>\n",
       "      <td>2876.0</td>\n",
       "      <td>0.640317</td>\n",
       "      <td>POLYGON Z ((-119.03770 48.41615 0.00000, -119....</td>\n",
       "      <td>-118.77</td>\n",
       "      <td>49.00</td>\n",
       "      <td>1999-04-30</td>\n",
       "      <td>7.500000</td>\n",
       "      <td>0.000000</td>\n",
       "      <td>1.620000</td>\n",
       "      <td>POINT (-118.770 49.000)</td>\n",
       "    </tr>\n",
       "    <tr>\n",
       "      <th>23345</th>\n",
       "      <td>5013117</td>\n",
       "      <td>None</td>\n",
       "      <td>2013</td>\n",
       "      <td>2</td>\n",
       "      <td>NaN</td>\n",
       "      <td>NaN</td>\n",
       "      <td>None</td>\n",
       "      <td>-99.94</td>\n",
       "      <td>50.66</td>\n",
       "      <td>2013-02-28</td>\n",
       "      <td>-13.757143</td>\n",
       "      <td>NaN</td>\n",
       "      <td>0.407143</td>\n",
       "      <td>POINT (-99.940 50.660)</td>\n",
       "    </tr>\n",
       "    <tr>\n",
       "      <th>93608</th>\n",
       "      <td>7024250</td>\n",
       "      <td>None</td>\n",
       "      <td>2020</td>\n",
       "      <td>5</td>\n",
       "      <td>NaN</td>\n",
       "      <td>NaN</td>\n",
       "      <td>None</td>\n",
       "      <td>-71.67</td>\n",
       "      <td>46.33</td>\n",
       "      <td>2020-05-31</td>\n",
       "      <td>NaN</td>\n",
       "      <td>0.016667</td>\n",
       "      <td>1.411111</td>\n",
       "      <td>POINT (-71.670 46.330)</td>\n",
       "    </tr>\n",
       "    <tr>\n",
       "      <th>122930</th>\n",
       "      <td>5022791</td>\n",
       "      <td>POINT (-97.170 50.120)</td>\n",
       "      <td>2012</td>\n",
       "      <td>6</td>\n",
       "      <td>14085.0</td>\n",
       "      <td>2.498818</td>\n",
       "      <td>POLYGON Z ((-96.97558 47.62888 0.00000, -96.97...</td>\n",
       "      <td>-97.17</td>\n",
       "      <td>50.12</td>\n",
       "      <td>2012-06-30</td>\n",
       "      <td>18.056667</td>\n",
       "      <td>0.000000</td>\n",
       "      <td>2.986667</td>\n",
       "      <td>POINT (-97.170 50.120)</td>\n",
       "    </tr>\n",
       "    <tr>\n",
       "      <th>244214</th>\n",
       "      <td>6124127</td>\n",
       "      <td>None</td>\n",
       "      <td>2010</td>\n",
       "      <td>10</td>\n",
       "      <td>NaN</td>\n",
       "      <td>NaN</td>\n",
       "      <td>None</td>\n",
       "      <td>-81.62</td>\n",
       "      <td>44.17</td>\n",
       "      <td>2010-10-31</td>\n",
       "      <td>10.723810</td>\n",
       "      <td>0.000000</td>\n",
       "      <td>2.200000</td>\n",
       "      <td>POINT (-81.620 44.170)</td>\n",
       "    </tr>\n",
       "    <tr>\n",
       "      <th>36165</th>\n",
       "      <td>1140876</td>\n",
       "      <td>POINT (-118.230 49.020)</td>\n",
       "      <td>2011</td>\n",
       "      <td>3</td>\n",
       "      <td>1928.0</td>\n",
       "      <td>7.421061</td>\n",
       "      <td>POLYGON Z ((-118.54536 41.60680 0.00000, -118....</td>\n",
       "      <td>-118.23</td>\n",
       "      <td>49.02</td>\n",
       "      <td>2011-03-31</td>\n",
       "      <td>3.603448</td>\n",
       "      <td>0.379310</td>\n",
       "      <td>1.868966</td>\n",
       "      <td>POINT (-118.230 49.020)</td>\n",
       "    </tr>\n",
       "    <tr>\n",
       "      <th>60921</th>\n",
       "      <td>3053600</td>\n",
       "      <td>POINT (-115.030 51.030)</td>\n",
       "      <td>2018</td>\n",
       "      <td>4</td>\n",
       "      <td>6206.0</td>\n",
       "      <td>0.696673</td>\n",
       "      <td>POLYGON Z ((-115.72213 51.08556 0.00000, -115....</td>\n",
       "      <td>-115.03</td>\n",
       "      <td>51.03</td>\n",
       "      <td>2018-04-30</td>\n",
       "      <td>1.123333</td>\n",
       "      <td>0.806667</td>\n",
       "      <td>1.913333</td>\n",
       "      <td>POINT (-115.030 51.030)</td>\n",
       "    </tr>\n",
       "    <tr>\n",
       "      <th>222081</th>\n",
       "      <td>4014040</td>\n",
       "      <td>POINT (-102.730 50.200)</td>\n",
       "      <td>1998</td>\n",
       "      <td>9</td>\n",
       "      <td>10062.0</td>\n",
       "      <td>3.967948</td>\n",
       "      <td>POLYGON Z ((-103.14863 46.25383 0.00000, -103....</td>\n",
       "      <td>-102.73</td>\n",
       "      <td>50.20</td>\n",
       "      <td>1998-09-30</td>\n",
       "      <td>13.723333</td>\n",
       "      <td>0.000000</td>\n",
       "      <td>1.060000</td>\n",
       "      <td>POINT (-102.730 50.200)</td>\n",
       "    </tr>\n",
       "    <tr>\n",
       "      <th>156688</th>\n",
       "      <td>4010879</td>\n",
       "      <td>POINT (-102.570 50.370)</td>\n",
       "      <td>2007</td>\n",
       "      <td>7</td>\n",
       "      <td>12264.0</td>\n",
       "      <td>2.927896</td>\n",
       "      <td>POLYGON Z ((-101.68305 47.58041 0.00000, -101....</td>\n",
       "      <td>-102.57</td>\n",
       "      <td>50.37</td>\n",
       "      <td>2007-07-31</td>\n",
       "      <td>20.087097</td>\n",
       "      <td>0.000000</td>\n",
       "      <td>0.864516</td>\n",
       "      <td>POINT (-102.570 50.370)</td>\n",
       "    </tr>\n",
       "    <tr>\n",
       "      <th>258295</th>\n",
       "      <td>1017230</td>\n",
       "      <td>None</td>\n",
       "      <td>2010</td>\n",
       "      <td>11</td>\n",
       "      <td>NaN</td>\n",
       "      <td>NaN</td>\n",
       "      <td>None</td>\n",
       "      <td>-123.63</td>\n",
       "      <td>48.65</td>\n",
       "      <td>2010-11-30</td>\n",
       "      <td>4.220000</td>\n",
       "      <td>1.320000</td>\n",
       "      <td>5.653333</td>\n",
       "      <td>POINT (-123.630 48.650)</td>\n",
       "    </tr>\n",
       "    <tr>\n",
       "      <th>103233</th>\n",
       "      <td>7063690</td>\n",
       "      <td>None</td>\n",
       "      <td>1997</td>\n",
       "      <td>6</td>\n",
       "      <td>NaN</td>\n",
       "      <td>NaN</td>\n",
       "      <td>None</td>\n",
       "      <td>-71.75</td>\n",
       "      <td>48.42</td>\n",
       "      <td>1997-06-30</td>\n",
       "      <td>15.740000</td>\n",
       "      <td>0.000000</td>\n",
       "      <td>1.500000</td>\n",
       "      <td>POINT (-71.750 48.420)</td>\n",
       "    </tr>\n",
       "    <tr>\n",
       "      <th>40896</th>\n",
       "      <td>1037899</td>\n",
       "      <td>None</td>\n",
       "      <td>2022</td>\n",
       "      <td>3</td>\n",
       "      <td>NaN</td>\n",
       "      <td>NaN</td>\n",
       "      <td>None</td>\n",
       "      <td>-126.65</td>\n",
       "      <td>49.93</td>\n",
       "      <td>2022-03-31</td>\n",
       "      <td>7.057895</td>\n",
       "      <td>NaN</td>\n",
       "      <td>19.200000</td>\n",
       "      <td>POINT (-126.650 49.930)</td>\n",
       "    </tr>\n",
       "    <tr>\n",
       "      <th>214574</th>\n",
       "      <td>1064320</td>\n",
       "      <td>POINT (-128.630 54.050)</td>\n",
       "      <td>2018</td>\n",
       "      <td>8</td>\n",
       "      <td>22481.0</td>\n",
       "      <td>2.764368</td>\n",
       "      <td>POLYGON Z ((-125.78187 54.09964 0.00000, -125....</td>\n",
       "      <td>-128.63</td>\n",
       "      <td>54.05</td>\n",
       "      <td>2018-08-31</td>\n",
       "      <td>19.370968</td>\n",
       "      <td>0.000000</td>\n",
       "      <td>0.151613</td>\n",
       "      <td>POINT (-128.630 54.050)</td>\n",
       "    </tr>\n",
       "    <tr>\n",
       "      <th>116038</th>\n",
       "      <td>4055736</td>\n",
       "      <td>POINT (-107.050 51.480)</td>\n",
       "      <td>2008</td>\n",
       "      <td>6</td>\n",
       "      <td>23596.0</td>\n",
       "      <td>1.496950</td>\n",
       "      <td>MULTIPOLYGON Z (((-108.34437 52.23120 0.00000,...</td>\n",
       "      <td>-107.05</td>\n",
       "      <td>51.48</td>\n",
       "      <td>2008-06-30</td>\n",
       "      <td>15.140000</td>\n",
       "      <td>NaN</td>\n",
       "      <td>1.466667</td>\n",
       "      <td>POINT (-107.050 51.480)</td>\n",
       "    </tr>\n",
       "    <tr>\n",
       "      <th>68265</th>\n",
       "      <td>7023075</td>\n",
       "      <td>None</td>\n",
       "      <td>1998</td>\n",
       "      <td>5</td>\n",
       "      <td>NaN</td>\n",
       "      <td>NaN</td>\n",
       "      <td>None</td>\n",
       "      <td>-73.72</td>\n",
       "      <td>45.07</td>\n",
       "      <td>1998-05-31</td>\n",
       "      <td>16.100000</td>\n",
       "      <td>0.000000</td>\n",
       "      <td>1.809677</td>\n",
       "      <td>POINT (-73.720 45.070)</td>\n",
       "    </tr>\n",
       "    <tr>\n",
       "      <th>126516</th>\n",
       "      <td>7028292</td>\n",
       "      <td>POINT (-72.680 45.070)</td>\n",
       "      <td>2014</td>\n",
       "      <td>6</td>\n",
       "      <td>20005.0</td>\n",
       "      <td>3.598644</td>\n",
       "      <td>MULTIPOLYGON Z (((-71.46373 41.68186 0.00000, ...</td>\n",
       "      <td>-72.68</td>\n",
       "      <td>45.07</td>\n",
       "      <td>2014-06-30</td>\n",
       "      <td>18.990909</td>\n",
       "      <td>0.000000</td>\n",
       "      <td>5.117857</td>\n",
       "      <td>POINT (-72.680 45.070)</td>\n",
       "    </tr>\n",
       "    <tr>\n",
       "      <th>112102</th>\n",
       "      <td>5022125</td>\n",
       "      <td>POINT (-98.900 49.190)</td>\n",
       "      <td>2006</td>\n",
       "      <td>6</td>\n",
       "      <td>11803.0</td>\n",
       "      <td>5.500203</td>\n",
       "      <td>POLYGON Z ((-100.99406 44.10433 0.00000, -100....</td>\n",
       "      <td>-98.90</td>\n",
       "      <td>49.19</td>\n",
       "      <td>2006-06-30</td>\n",
       "      <td>16.850000</td>\n",
       "      <td>0.000000</td>\n",
       "      <td>2.053333</td>\n",
       "      <td>POINT (-98.900 49.190)</td>\n",
       "    </tr>\n",
       "    <tr>\n",
       "      <th>44100</th>\n",
       "      <td>7024250</td>\n",
       "      <td>None</td>\n",
       "      <td>1996</td>\n",
       "      <td>4</td>\n",
       "      <td>NaN</td>\n",
       "      <td>NaN</td>\n",
       "      <td>None</td>\n",
       "      <td>-71.67</td>\n",
       "      <td>46.33</td>\n",
       "      <td>1996-04-30</td>\n",
       "      <td>3.533333</td>\n",
       "      <td>1.620000</td>\n",
       "      <td>4.860870</td>\n",
       "      <td>POINT (-71.670 46.330)</td>\n",
       "    </tr>\n",
       "  </tbody>\n",
       "</table>\n",
       "</div>"
      ],
      "text/plain": [
       "       Climate ID               geometry_x  YEAR  MONTH  fire_index  distance  \\\n",
       "123427    8100468                     None  2012      6         NaN       NaN   \n",
       "27634     2402684                     None  1991      3         NaN       NaN   \n",
       "45423     1135126  POINT (-118.770 49.000)  1999      4      2876.0  0.640317   \n",
       "23345     5013117                     None  2013      2         NaN       NaN   \n",
       "93608     7024250                     None  2020      5         NaN       NaN   \n",
       "122930    5022791   POINT (-97.170 50.120)  2012      6     14085.0  2.498818   \n",
       "244214    6124127                     None  2010     10         NaN       NaN   \n",
       "36165     1140876  POINT (-118.230 49.020)  2011      3      1928.0  7.421061   \n",
       "60921     3053600  POINT (-115.030 51.030)  2018      4      6206.0  0.696673   \n",
       "222081    4014040  POINT (-102.730 50.200)  1998      9     10062.0  3.967948   \n",
       "156688    4010879  POINT (-102.570 50.370)  2007      7     12264.0  2.927896   \n",
       "258295    1017230                     None  2010     11         NaN       NaN   \n",
       "103233    7063690                     None  1997      6         NaN       NaN   \n",
       "40896     1037899                     None  2022      3         NaN       NaN   \n",
       "214574    1064320  POINT (-128.630 54.050)  2018      8     22481.0  2.764368   \n",
       "116038    4055736  POINT (-107.050 51.480)  2008      6     23596.0  1.496950   \n",
       "68265     7023075                     None  1998      5         NaN       NaN   \n",
       "126516    7028292   POINT (-72.680 45.070)  2014      6     20005.0  3.598644   \n",
       "112102    5022125   POINT (-98.900 49.190)  2006      6     11803.0  5.500203   \n",
       "44100     7024250                     None  1996      4         NaN       NaN   \n",
       "\n",
       "                                               geometry_y  Longitude (x)  \\\n",
       "123427                                               None         -64.87   \n",
       "27634                                                None         -75.14   \n",
       "45423   POLYGON Z ((-119.03770 48.41615 0.00000, -119....        -118.77   \n",
       "23345                                                None         -99.94   \n",
       "93608                                                None         -71.67   \n",
       "122930  POLYGON Z ((-96.97558 47.62888 0.00000, -96.97...         -97.17   \n",
       "244214                                               None         -81.62   \n",
       "36165   POLYGON Z ((-118.54536 41.60680 0.00000, -118....        -118.23   \n",
       "60921   POLYGON Z ((-115.72213 51.08556 0.00000, -115....        -115.03   \n",
       "222081  POLYGON Z ((-103.14863 46.25383 0.00000, -103....        -102.73   \n",
       "156688  POLYGON Z ((-101.68305 47.58041 0.00000, -101....        -102.57   \n",
       "258295                                               None        -123.63   \n",
       "103233                                               None         -71.75   \n",
       "40896                                                None        -126.65   \n",
       "214574  POLYGON Z ((-125.78187 54.09964 0.00000, -125....        -128.63   \n",
       "116038  MULTIPOLYGON Z (((-108.34437 52.23120 0.00000,...        -107.05   \n",
       "68265                                                None         -73.72   \n",
       "126516  MULTIPOLYGON Z (((-71.46373 41.68186 0.00000, ...         -72.68   \n",
       "112102  POLYGON Z ((-100.99406 44.10433 0.00000, -100....         -98.90   \n",
       "44100                                                None         -71.67   \n",
       "\n",
       "        Latitude (y)       Date  Mean Temp (°C)  Total Snow (cm)  \\\n",
       "123427         47.80 2012-06-30             NaN         0.000000   \n",
       "27634          68.90 1991-03-31      -24.157692         0.232258   \n",
       "45423          49.00 1999-04-30        7.500000         0.000000   \n",
       "23345          50.66 2013-02-28      -13.757143              NaN   \n",
       "93608          46.33 2020-05-31             NaN         0.016667   \n",
       "122930         50.12 2012-06-30       18.056667         0.000000   \n",
       "244214         44.17 2010-10-31       10.723810         0.000000   \n",
       "36165          49.02 2011-03-31        3.603448         0.379310   \n",
       "60921          51.03 2018-04-30        1.123333         0.806667   \n",
       "222081         50.20 1998-09-30       13.723333         0.000000   \n",
       "156688         50.37 2007-07-31       20.087097         0.000000   \n",
       "258295         48.65 2010-11-30        4.220000         1.320000   \n",
       "103233         48.42 1997-06-30       15.740000         0.000000   \n",
       "40896          49.93 2022-03-31        7.057895              NaN   \n",
       "214574         54.05 2018-08-31       19.370968         0.000000   \n",
       "116038         51.48 2008-06-30       15.140000              NaN   \n",
       "68265          45.07 1998-05-31       16.100000         0.000000   \n",
       "126516         45.07 2014-06-30       18.990909         0.000000   \n",
       "112102         49.19 2006-06-30       16.850000         0.000000   \n",
       "44100          46.33 1996-04-30        3.533333         1.620000   \n",
       "\n",
       "        Total Precip (mm)                 geometry  \n",
       "123427           3.700000   POINT (-64.870 47.800)  \n",
       "27634            0.232258   POINT (-75.140 68.900)  \n",
       "45423            1.620000  POINT (-118.770 49.000)  \n",
       "23345            0.407143   POINT (-99.940 50.660)  \n",
       "93608            1.411111   POINT (-71.670 46.330)  \n",
       "122930           2.986667   POINT (-97.170 50.120)  \n",
       "244214           2.200000   POINT (-81.620 44.170)  \n",
       "36165            1.868966  POINT (-118.230 49.020)  \n",
       "60921            1.913333  POINT (-115.030 51.030)  \n",
       "222081           1.060000  POINT (-102.730 50.200)  \n",
       "156688           0.864516  POINT (-102.570 50.370)  \n",
       "258295           5.653333  POINT (-123.630 48.650)  \n",
       "103233           1.500000   POINT (-71.750 48.420)  \n",
       "40896           19.200000  POINT (-126.650 49.930)  \n",
       "214574           0.151613  POINT (-128.630 54.050)  \n",
       "116038           1.466667  POINT (-107.050 51.480)  \n",
       "68265            1.809677   POINT (-73.720 45.070)  \n",
       "126516           5.117857   POINT (-72.680 45.070)  \n",
       "112102           2.053333   POINT (-98.900 49.190)  \n",
       "44100            4.860870   POINT (-71.670 46.330)  "
      ]
     },
     "execution_count": 221,
     "metadata": {},
     "output_type": "execute_result"
    }
   ],
   "source": [
    "merged_df.sample(20)"
   ]
  },
  {
   "cell_type": "code",
   "execution_count": 208,
   "metadata": {},
   "outputs": [
    {
     "data": {
      "text/plain": [
       "(277003, 15)"
      ]
     },
     "execution_count": 208,
     "metadata": {},
     "output_type": "execute_result"
    }
   ],
   "source": [
    "merged_df.shape"
   ]
  },
  {
   "cell_type": "code",
   "execution_count": 207,
   "metadata": {},
   "outputs": [
    {
     "data": {
      "text/plain": [
       "0"
      ]
     },
     "execution_count": 207,
     "metadata": {},
     "output_type": "execute_result"
    }
   ],
   "source": [
    "merged_df.duplicated().sum()"
   ]
  },
  {
   "cell_type": "code",
   "execution_count": 189,
   "metadata": {},
   "outputs": [],
   "source": [
    "merged_df.drop_duplicates(inplace=True)"
   ]
  },
  {
   "cell_type": "markdown",
   "metadata": {},
   "source": [
    "Let's take a look at the missing data in our new completely merged dataframe:"
   ]
  },
  {
   "cell_type": "code",
   "execution_count": 222,
   "metadata": {},
   "outputs": [
    {
     "name": "stdout",
     "output_type": "stream",
     "text": [
      "Climate ID has 0.0% missing data\n",
      "geometry_x has 51.48% missing data\n",
      "YEAR has 0.0% missing data\n",
      "MONTH has 0.0% missing data\n",
      "fire_index has 51.48% missing data\n",
      "distance has 51.48% missing data\n",
      "geometry_y has 51.48% missing data\n",
      "Longitude (x) has 1.61% missing data\n",
      "Latitude (y) has 1.61% missing data\n",
      "Date has 1.61% missing data\n",
      "Mean Temp (°C) has 15.27% missing data\n",
      "Total Snow (cm) has 21.93% missing data\n",
      "Total Precip (mm) has 8.92% missing data\n",
      "geometry has 1.61% missing data\n"
     ]
    }
   ],
   "source": [
    "for i in range(len(merged_df.columns)):\n",
    "    na_index=merged_df.isna().sum().index[i]\n",
    "    na_ratio=merged_df.isna().sum().iloc[i]\n",
    "    print(f'{na_index} has {round((na_ratio/merged_df.shape[0])*100,2)}% missing data')\n"
   ]
  },
  {
   "cell_type": "markdown",
   "metadata": {},
   "source": [
    "We can see that all the fire related datapoints have 51% missing data, which is expected as we have weather information on dates that didn't have any fires associated to them. These columns will eventually be dropped, as we only need to know whether or not a fire occured at that point."
   ]
  },
  {
   "cell_type": "code",
   "execution_count": 191,
   "metadata": {},
   "outputs": [
    {
     "data": {
      "text/plain": [
       "Climate ID                   object\n",
       "geometry_x                 geometry\n",
       "YEAR                          int64\n",
       "MONTH                         int64\n",
       "fire_index                  float64\n",
       "distance                    float64\n",
       "geometry_y                 geometry\n",
       "Longitude (x)               float64\n",
       "Latitude (y)                float64\n",
       "Date                 datetime64[ns]\n",
       "Mean Temp (°C)              float64\n",
       "Total Snow (cm)             float64\n",
       "Total Precip (mm)           float64\n",
       "geometry                   geometry\n",
       "dtype: object"
      ]
     },
     "execution_count": 191,
     "metadata": {},
     "output_type": "execute_result"
    }
   ],
   "source": [
    "merged_df.dtypes"
   ]
  },
  {
   "cell_type": "markdown",
   "metadata": {},
   "source": [
    "Below, I'll be creating a new column with a `1` label for cases where fire did occur and a `0` for when no fire occured. I'll be using `geometry` as the column to look at; if there's missing data, that means that no fire occured, otherwise fire did occur. This can be done with any column that came from the original fire dataframe. "
   ]
  },
  {
   "cell_type": "code",
   "execution_count": 223,
   "metadata": {},
   "outputs": [],
   "source": [
    "merged_df['Fire'] = np.where(merged_df['geometry_y']!=None,1,0)"
   ]
  },
  {
   "cell_type": "code",
   "execution_count": 224,
   "metadata": {},
   "outputs": [
    {
     "data": {
      "text/html": [
       "<div>\n",
       "<style scoped>\n",
       "    .dataframe tbody tr th:only-of-type {\n",
       "        vertical-align: middle;\n",
       "    }\n",
       "\n",
       "    .dataframe tbody tr th {\n",
       "        vertical-align: top;\n",
       "    }\n",
       "\n",
       "    .dataframe thead th {\n",
       "        text-align: right;\n",
       "    }\n",
       "</style>\n",
       "<table border=\"1\" class=\"dataframe\">\n",
       "  <thead>\n",
       "    <tr style=\"text-align: right;\">\n",
       "      <th></th>\n",
       "      <th>Climate ID</th>\n",
       "      <th>geometry_x</th>\n",
       "      <th>YEAR</th>\n",
       "      <th>MONTH</th>\n",
       "      <th>fire_index</th>\n",
       "      <th>distance</th>\n",
       "      <th>geometry_y</th>\n",
       "      <th>Longitude (x)</th>\n",
       "      <th>Latitude (y)</th>\n",
       "      <th>Date</th>\n",
       "      <th>Mean Temp (°C)</th>\n",
       "      <th>Total Snow (cm)</th>\n",
       "      <th>Total Precip (mm)</th>\n",
       "      <th>geometry</th>\n",
       "      <th>Fire</th>\n",
       "    </tr>\n",
       "  </thead>\n",
       "  <tbody>\n",
       "    <tr>\n",
       "      <th>59136</th>\n",
       "      <td>2400660</td>\n",
       "      <td>None</td>\n",
       "      <td>2016</td>\n",
       "      <td>4</td>\n",
       "      <td>NaN</td>\n",
       "      <td>NaN</td>\n",
       "      <td>None</td>\n",
       "      <td>-66.80</td>\n",
       "      <td>68.47</td>\n",
       "      <td>2016-04-30</td>\n",
       "      <td>NaN</td>\n",
       "      <td>NaN</td>\n",
       "      <td>NaN</td>\n",
       "      <td>POINT (-66.800 68.470)</td>\n",
       "      <td>0</td>\n",
       "    </tr>\n",
       "    <tr>\n",
       "      <th>192102</th>\n",
       "      <td>3033890</td>\n",
       "      <td>POINT (-112.770 49.700)</td>\n",
       "      <td>1998</td>\n",
       "      <td>8</td>\n",
       "      <td>8890.0</td>\n",
       "      <td>0.249442</td>\n",
       "      <td>POLYGON Z ((-112.84004 49.47974 0.00000, -112....</td>\n",
       "      <td>-112.77</td>\n",
       "      <td>49.70</td>\n",
       "      <td>1998-08-31</td>\n",
       "      <td>20.138710</td>\n",
       "      <td>0.000000</td>\n",
       "      <td>0.877419</td>\n",
       "      <td>POINT (-112.770 49.700)</td>\n",
       "      <td>1</td>\n",
       "    </tr>\n",
       "    <tr>\n",
       "      <th>121629</th>\n",
       "      <td>5031320</td>\n",
       "      <td>POINT (-95.200 49.620)</td>\n",
       "      <td>2011</td>\n",
       "      <td>6</td>\n",
       "      <td>13806.0</td>\n",
       "      <td>3.525343</td>\n",
       "      <td>POLYGON Z ((-96.22184 46.24514 0.00000, -96.22...</td>\n",
       "      <td>-95.20</td>\n",
       "      <td>49.62</td>\n",
       "      <td>2011-06-30</td>\n",
       "      <td>15.996667</td>\n",
       "      <td>0.000000</td>\n",
       "      <td>1.823333</td>\n",
       "      <td>POINT (-95.200 49.620)</td>\n",
       "      <td>1</td>\n",
       "    </tr>\n",
       "    <tr>\n",
       "      <th>183170</th>\n",
       "      <td>8101792</td>\n",
       "      <td>POINT (-66.430 45.830)</td>\n",
       "      <td>2018</td>\n",
       "      <td>7</td>\n",
       "      <td>18974.0</td>\n",
       "      <td>1.652270</td>\n",
       "      <td>POLYGON Z ((-67.28631 44.41708 0.00000, -67.28...</td>\n",
       "      <td>-66.43</td>\n",
       "      <td>45.83</td>\n",
       "      <td>2018-07-31</td>\n",
       "      <td>NaN</td>\n",
       "      <td>NaN</td>\n",
       "      <td>NaN</td>\n",
       "      <td>POINT (-66.430 45.830)</td>\n",
       "      <td>1</td>\n",
       "    </tr>\n",
       "    <tr>\n",
       "      <th>179481</th>\n",
       "      <td>5022575</td>\n",
       "      <td>POINT (-96.040 49.350)</td>\n",
       "      <td>2017</td>\n",
       "      <td>7</td>\n",
       "      <td>16027.0</td>\n",
       "      <td>1.965696</td>\n",
       "      <td>POLYGON Z ((-96.97515 47.62085 0.00000, -96.97...</td>\n",
       "      <td>-96.04</td>\n",
       "      <td>49.35</td>\n",
       "      <td>2017-07-31</td>\n",
       "      <td>NaN</td>\n",
       "      <td>0.000000</td>\n",
       "      <td>1.309677</td>\n",
       "      <td>POINT (-96.040 49.350)</td>\n",
       "      <td>1</td>\n",
       "    </tr>\n",
       "    <tr>\n",
       "      <th>197421</th>\n",
       "      <td>7025745</td>\n",
       "      <td>None</td>\n",
       "      <td>2005</td>\n",
       "      <td>8</td>\n",
       "      <td>NaN</td>\n",
       "      <td>NaN</td>\n",
       "      <td>None</td>\n",
       "      <td>-74.05</td>\n",
       "      <td>45.12</td>\n",
       "      <td>2005-08-31</td>\n",
       "      <td>21.187097</td>\n",
       "      <td>0.000000</td>\n",
       "      <td>4.029032</td>\n",
       "      <td>POINT (-74.050 45.120)</td>\n",
       "      <td>0</td>\n",
       "    </tr>\n",
       "    <tr>\n",
       "      <th>237208</th>\n",
       "      <td>7038975</td>\n",
       "      <td>None</td>\n",
       "      <td>1994</td>\n",
       "      <td>10</td>\n",
       "      <td>NaN</td>\n",
       "      <td>NaN</td>\n",
       "      <td>None</td>\n",
       "      <td>-76.05</td>\n",
       "      <td>46.07</td>\n",
       "      <td>1994-10-31</td>\n",
       "      <td>7.490323</td>\n",
       "      <td>0.000000</td>\n",
       "      <td>1.067742</td>\n",
       "      <td>POINT (-76.050 46.070)</td>\n",
       "      <td>0</td>\n",
       "    </tr>\n",
       "    <tr>\n",
       "      <th>44298</th>\n",
       "      <td>1063298</td>\n",
       "      <td>None</td>\n",
       "      <td>1997</td>\n",
       "      <td>4</td>\n",
       "      <td>NaN</td>\n",
       "      <td>NaN</td>\n",
       "      <td>None</td>\n",
       "      <td>-130.71</td>\n",
       "      <td>54.57</td>\n",
       "      <td>1997-04-30</td>\n",
       "      <td>7.970000</td>\n",
       "      <td>0.033333</td>\n",
       "      <td>6.766667</td>\n",
       "      <td>POINT (-130.710 54.570)</td>\n",
       "      <td>0</td>\n",
       "    </tr>\n",
       "    <tr>\n",
       "      <th>232711</th>\n",
       "      <td>1140876</td>\n",
       "      <td>POINT (-118.230 49.020)</td>\n",
       "      <td>2017</td>\n",
       "      <td>9</td>\n",
       "      <td>4581.0</td>\n",
       "      <td>7.387050</td>\n",
       "      <td>POLYGON Z ((-118.44802 41.63640 0.00000, -118....</td>\n",
       "      <td>-118.23</td>\n",
       "      <td>49.02</td>\n",
       "      <td>2017-09-30</td>\n",
       "      <td>16.284000</td>\n",
       "      <td>0.000000</td>\n",
       "      <td>0.552000</td>\n",
       "      <td>POINT (-118.230 49.020)</td>\n",
       "      <td>1</td>\n",
       "    </tr>\n",
       "    <tr>\n",
       "      <th>114309</th>\n",
       "      <td>6103367</td>\n",
       "      <td>POINT (-76.690 44.430)</td>\n",
       "      <td>2007</td>\n",
       "      <td>6</td>\n",
       "      <td>19456.0</td>\n",
       "      <td>2.136325</td>\n",
       "      <td>MULTIPOLYGON Z (((-75.06659 42.97201 0.00000, ...</td>\n",
       "      <td>-76.69</td>\n",
       "      <td>44.43</td>\n",
       "      <td>2007-06-30</td>\n",
       "      <td>19.343333</td>\n",
       "      <td>0.000000</td>\n",
       "      <td>2.260000</td>\n",
       "      <td>POINT (-76.690 44.430)</td>\n",
       "      <td>1</td>\n",
       "    </tr>\n",
       "  </tbody>\n",
       "</table>\n",
       "</div>"
      ],
      "text/plain": [
       "       Climate ID               geometry_x  YEAR  MONTH  fire_index  distance  \\\n",
       "59136     2400660                     None  2016      4         NaN       NaN   \n",
       "192102    3033890  POINT (-112.770 49.700)  1998      8      8890.0  0.249442   \n",
       "121629    5031320   POINT (-95.200 49.620)  2011      6     13806.0  3.525343   \n",
       "183170    8101792   POINT (-66.430 45.830)  2018      7     18974.0  1.652270   \n",
       "179481    5022575   POINT (-96.040 49.350)  2017      7     16027.0  1.965696   \n",
       "197421    7025745                     None  2005      8         NaN       NaN   \n",
       "237208    7038975                     None  1994     10         NaN       NaN   \n",
       "44298     1063298                     None  1997      4         NaN       NaN   \n",
       "232711    1140876  POINT (-118.230 49.020)  2017      9      4581.0  7.387050   \n",
       "114309    6103367   POINT (-76.690 44.430)  2007      6     19456.0  2.136325   \n",
       "\n",
       "                                               geometry_y  Longitude (x)  \\\n",
       "59136                                                None         -66.80   \n",
       "192102  POLYGON Z ((-112.84004 49.47974 0.00000, -112....        -112.77   \n",
       "121629  POLYGON Z ((-96.22184 46.24514 0.00000, -96.22...         -95.20   \n",
       "183170  POLYGON Z ((-67.28631 44.41708 0.00000, -67.28...         -66.43   \n",
       "179481  POLYGON Z ((-96.97515 47.62085 0.00000, -96.97...         -96.04   \n",
       "197421                                               None         -74.05   \n",
       "237208                                               None         -76.05   \n",
       "44298                                                None        -130.71   \n",
       "232711  POLYGON Z ((-118.44802 41.63640 0.00000, -118....        -118.23   \n",
       "114309  MULTIPOLYGON Z (((-75.06659 42.97201 0.00000, ...         -76.69   \n",
       "\n",
       "        Latitude (y)       Date  Mean Temp (°C)  Total Snow (cm)  \\\n",
       "59136          68.47 2016-04-30             NaN              NaN   \n",
       "192102         49.70 1998-08-31       20.138710         0.000000   \n",
       "121629         49.62 2011-06-30       15.996667         0.000000   \n",
       "183170         45.83 2018-07-31             NaN              NaN   \n",
       "179481         49.35 2017-07-31             NaN         0.000000   \n",
       "197421         45.12 2005-08-31       21.187097         0.000000   \n",
       "237208         46.07 1994-10-31        7.490323         0.000000   \n",
       "44298          54.57 1997-04-30        7.970000         0.033333   \n",
       "232711         49.02 2017-09-30       16.284000         0.000000   \n",
       "114309         44.43 2007-06-30       19.343333         0.000000   \n",
       "\n",
       "        Total Precip (mm)                 geometry  Fire  \n",
       "59136                 NaN   POINT (-66.800 68.470)     0  \n",
       "192102           0.877419  POINT (-112.770 49.700)     1  \n",
       "121629           1.823333   POINT (-95.200 49.620)     1  \n",
       "183170                NaN   POINT (-66.430 45.830)     1  \n",
       "179481           1.309677   POINT (-96.040 49.350)     1  \n",
       "197421           4.029032   POINT (-74.050 45.120)     0  \n",
       "237208           1.067742   POINT (-76.050 46.070)     0  \n",
       "44298            6.766667  POINT (-130.710 54.570)     0  \n",
       "232711           0.552000  POINT (-118.230 49.020)     1  \n",
       "114309           2.260000   POINT (-76.690 44.430)     1  "
      ]
     },
     "execution_count": 224,
     "metadata": {},
     "output_type": "execute_result"
    }
   ],
   "source": [
    "merged_df.sample(10)"
   ]
  },
  {
   "cell_type": "markdown",
   "metadata": {},
   "source": [
    "Now we have a table showing whether fire had occured or not! "
   ]
  },
  {
   "cell_type": "markdown",
   "metadata": {},
   "source": [
    "Let's export the table as it is above, and we'll clean it up for modelling in the `Modelling.ipynb` notebook!"
   ]
  },
  {
   "cell_type": "code",
   "execution_count": 225,
   "metadata": {},
   "outputs": [],
   "source": [
    "#exporting for modelling and analysis\n",
    "merged_df.to_csv('Data/modelling_df.csv')\n"
   ]
  }
 ],
 "metadata": {
  "kernelspec": {
   "display_name": "capstone_env",
   "language": "python",
   "name": "python3"
  },
  "language_info": {
   "codemirror_mode": {
    "name": "ipython",
    "version": 3
   },
   "file_extension": ".py",
   "mimetype": "text/x-python",
   "name": "python",
   "nbconvert_exporter": "python",
   "pygments_lexer": "ipython3",
   "version": "3.12.3"
  }
 },
 "nbformat": 4,
 "nbformat_minor": 2
}
