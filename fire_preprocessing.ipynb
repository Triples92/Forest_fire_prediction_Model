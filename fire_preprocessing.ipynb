{
 "cells": [
  {
   "cell_type": "code",
   "execution_count": 1,
   "metadata": {},
   "outputs": [],
   "source": [
    "import pandas as pd\n",
    "import geopandas as gpd\n",
    "from datetime import datetime"
   ]
  },
  {
   "cell_type": "markdown",
   "metadata": {},
   "source": [
    "Looking at our fire data - We can see that a lot of the Start and end time are missing, which is a problem when we're trying to use the start and end time as a feature for predicting fires.\n",
    "\n",
    "Let's look at our data again and see how many missing information we have:\n"
   ]
  },
  {
   "cell_type": "code",
   "execution_count": 2,
   "metadata": {},
   "outputs": [
    {
     "name": "stderr",
     "output_type": "stream",
     "text": [
      "/var/folders/g4/w2hwfpc1681072qk9l2n84600000gn/T/ipykernel_92103/1819243574.py:1: DtypeWarning: Columns (22) have mixed types. Specify dtype option on import or set low_memory=False.\n",
      "  fire_df = pd.read_csv('Data/Fire_data_1990to2022.csv')\n"
     ]
    }
   ],
   "source": [
    "fire_df = pd.read_csv('Data/Fire_data_1990to2022.csv')"
   ]
  },
  {
   "cell_type": "code",
   "execution_count": 3,
   "metadata": {},
   "outputs": [
    {
     "data": {
      "text/plain": [
       "(35665, 23)"
      ]
     },
     "execution_count": 3,
     "metadata": {},
     "output_type": "execute_result"
    }
   ],
   "source": [
    "fire_df.shape"
   ]
  },
  {
   "cell_type": "code",
   "execution_count": 4,
   "metadata": {},
   "outputs": [
    {
     "data": {
      "text/plain": [
       "Unnamed: 0.1        0\n",
       "Unnamed: 0          0\n",
       "YEAR                0\n",
       "NFIREID             0\n",
       "BASRC               0\n",
       "FIREMAPS            0\n",
       "FIREMAPM            0\n",
       "FIRECAUS            0\n",
       "BURNCLAS            0\n",
       "SDATE           23311\n",
       "EDATE           23311\n",
       "AFSDATE          8336\n",
       "AFEDATE         22014\n",
       "CAPDATE         20698\n",
       "POLY_HA             0\n",
       "ADJ_HA              0\n",
       "ADJ_FLAG            0\n",
       "AGENCY              0\n",
       "BT_GID              0\n",
       "VERSION             0\n",
       "COMMENTS         7321\n",
       "geometry            0\n",
       "COMMENT         34844\n",
       "dtype: int64"
      ]
     },
     "execution_count": 4,
     "metadata": {},
     "output_type": "execute_result"
    }
   ],
   "source": [
    "fire_df.isna().sum()"
   ]
  },
  {
   "cell_type": "markdown",
   "metadata": {},
   "source": [
    "|Name|Description|\n",
    "|-----|---------|\n",
    "|YEAR| is the fire year|\n",
    "|NFIREID | a uniquely assigned ID to each fire event over a spatial region and for a specific year. It is the common ID used to link a fire|\n",
    "|BASRC\t|event crossing a provincial, territorial, or national park boundary for a specific year.|\n",
    "|FIREMAPS|describes the data source or platform used to identify the burn.|\n",
    "|FIREMAPM|describes the method used to delineate the burn polygon. |\n",
    "|FIRECAUS|describes the ignition source of the fire recorded by the agency.|\n",
    "|BURNCLAS|The class type of the burns incurred by fire. |\n",
    "|SDATE|is the date of the first detected hotspot within the spatial extent of the fire event. Null if no hotspots were detected|\n",
    "|EDATE|is the date of the last detected hotspot within the spatial extent of the fire event. Null if no hotspots were detected|\n",
    "|AFSDATE|is the fire start date reported by the agency. Could also represent the recorded date or detection date of the fire by the agency|\n",
    "|AFEDATE|is the fire end date reported by the agency. Where different dates are recorded by agencies for cross-border fires, NBAC uses the last date|\n",
    "|CAPDATE| is the acquisition date of the source data. Examples include date of GPS acquisition, air photo acquisition, and satellite image. Null if not provided|\n",
    "|POLY_HA|is the total area calculated in hectares using the Canada Albers Equal Area Conic projection|\n",
    "|ADJ_HA|is an adjusted area burn calculated in hectares. Area burned adjustment models are described in https://doi.org/10.1088/1748-ADJ_FLAG9326/abfb2c.|\n",
    "|AGENCY|is the location (Province, Territory, or Parks Canada) where the fire perimeter is mapped|\n",
    "|BT_GID|GID is a Global Identifier that concatenates the fire year and NFIREID. This identifier is useful for selecting unique fire records merged by year.|"
   ]
  },
  {
   "cell_type": "code",
   "execution_count": 5,
   "metadata": {},
   "outputs": [
    {
     "data": {
      "text/plain": [
       "0.6536099817748493"
      ]
     },
     "execution_count": 5,
     "metadata": {},
     "output_type": "execute_result"
    }
   ],
   "source": [
    "ratio_SDATE = fire_df['SDATE'].isna().sum()/fire_df.shape[0]\n",
    "ratio_SDATE"
   ]
  },
  {
   "cell_type": "code",
   "execution_count": null,
   "metadata": {},
   "outputs": [],
   "source": []
  },
  {
   "cell_type": "code",
   "execution_count": null,
   "metadata": {},
   "outputs": [],
   "source": [
    "ss"
   ]
  },
  {
   "cell_type": "markdown",
   "metadata": {},
   "source": [
    "We can see that 65% of our start date data is missing. That is a significant number of missing data to interpolate. I will be pivotting from predicting the start and end date to simply creating a model that can predict whether fire is more likely depending on weather in a certain month. To do that, I will have to:\n",
    "- Create a new month column and fill it out based on the already available SDATE\n",
    "- Drop the SDATE, EDATE, AFSDATE, AFEDATE, & CAPDATE, as we won't be looking at any other dates moving forward. \n",
    "- Drop the comments columns as those are not needed moving forward\n",
    "- Create a separate df including only rows with SDATE"
   ]
  },
  {
   "cell_type": "code",
   "execution_count": 6,
   "metadata": {},
   "outputs": [
    {
     "data": {
      "text/plain": [
       "0       2005-06-08\n",
       "1       2005-06-01\n",
       "2       2005-07-05\n",
       "3       2005-06-01\n",
       "4       2005-07-16\n",
       "           ...    \n",
       "35660          NaT\n",
       "35661          NaT\n",
       "35662          NaT\n",
       "35663          NaT\n",
       "35664          NaT\n",
       "Name: SDATE, Length: 35665, dtype: datetime64[ns]"
      ]
     },
     "execution_count": 6,
     "metadata": {},
     "output_type": "execute_result"
    }
   ],
   "source": [
    "fire_df['SDATE'].apply(pd.to_datetime)"
   ]
  },
  {
   "cell_type": "code",
   "execution_count": null,
   "metadata": {},
   "outputs": [],
   "source": []
  }
 ],
 "metadata": {
  "kernelspec": {
   "display_name": "capstone_env",
   "language": "python",
   "name": "python3"
  },
  "language_info": {
   "codemirror_mode": {
    "name": "ipython",
    "version": 3
   },
   "file_extension": ".py",
   "mimetype": "text/x-python",
   "name": "python",
   "nbconvert_exporter": "python",
   "pygments_lexer": "ipython3",
   "version": "3.12.3"
  }
 },
 "nbformat": 4,
 "nbformat_minor": 2
}
