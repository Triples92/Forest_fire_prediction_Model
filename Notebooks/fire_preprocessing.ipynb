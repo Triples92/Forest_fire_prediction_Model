{
 "cells": [
  {
   "cell_type": "code",
   "execution_count": 2,
   "metadata": {},
   "outputs": [
    {
     "name": "stderr",
     "output_type": "stream",
     "text": [
      "python3.12(74134) MallocStackLogging: can't turn off malloc stack logging because it was not enabled.\n"
     ]
    }
   ],
   "source": [
    "import pandas as pd\n",
    "import geopandas as gpd\n",
    "from datetime import datetime\n",
    "import numpy as np\n",
    "import matplotlib.pyplot as plt\n",
    "import seaborn as sns           "
   ]
  },
  {
   "cell_type": "markdown",
   "metadata": {},
   "source": [
    "Let's look at the column legend below to get an idea of what data we're working with! "
   ]
  },
  {
   "cell_type": "markdown",
   "metadata": {},
   "source": [
    "|Name|Description|\n",
    "|-----|---------|\n",
    "|YEAR| is the fire year|\n",
    "|FIREID | a uniquely assigned ID to each fire event over a spatial region and for a specific year. It is the common ID used to link a fire|\n",
    "|FIRENAME|Agency firename|\n",
    "|MONTH|Month of fire as provided by individual agencies|\n",
    "|DAY|Day of fire as provided by individual agencies |\n",
    "|FIRECAUS|describes the ignition source of the fire recorded by the agency.|\n",
    "|DATE_TYPE| Type of date. |\n",
    "|DECADE|decade which fire took place|\n",
    "|OUT_DATE|Date fire was reported OUT as reported by individual agency|\n",
    "|REP_DATE|Date associated with fire as reported by individual agency. Refer to DATE_TYPE for more catagories of report dates.|\n",
    "|SIZE_HA|fire size (hectares) as reported in agency source data|\n",
    "|CALC_HA| fire size (hectares) as calculated using GIS, using Canada Albers Equal Area projection.|\n",
    "|CAUSE|Cause of fire as reported by agency DESCRIPTION SOURCE classifications: L-(lightning), H (human), H-PB (prescribed burn), U (unknown)|\n",
    "|MAP_SOURCE|Source refers to WHAT data source was used to identify and map the fire perimeter.This attribute, together with the Method (which describes HOW the fire perimeter was created), provides insight into data quality and accuracy.*|\n",
    "|SOURCE_KEY|Source_key may include keywords to provide additional information about the data source.|\n",
    "|MAP_METHOD|Map_Method refers to process used to create or derive the fire polygon (the HOW).This attribute, together with Source (which describes WHAT data source was used),provides insight into data quality and accuracy.Note this attribute is in the process of being reviewed for national standards.|\n",
    "|WATER_REM|Indicates if water areas have been removed from the polygon area.*|\n",
    "|UNBURN_REM|Indicates if unburned islands have been removed from the polygon area.*|\n",
    "|MORE_INFO|Additional attributes provided by agecny|\n",
    "|CFS_REF_ID| CFS|\n",
    "|ACQ_DATE|Date that fire data was aquired from agency|\n",
    "|CFS_NOTE1|Information noted by CFS|\n",
    "|AG_SRCFILE|source data file provided by agency|\n",
    "|CFS_NOTE2|Additional information noted by CFS|\n",
    "|POLY_DATE|Date fire polygon was captured, created or loaded by agency system|\n",
    "|SRC_AGY2| General agency that does not go into specific Parks Canada Parks|\n",
    "\n",
    "\n",
    "*Note this attribute is in the process of being reviewed for national standards."
   ]
  },
  {
   "cell_type": "code",
   "execution_count": 25,
   "metadata": {},
   "outputs": [],
   "source": [
    "fire_shp=gpd.read_file('/Users/sarismac/Downloads/NFDB_poly/NFDB_poly_20210707.shp') #found new set that has all the dates needed"
   ]
  },
  {
   "cell_type": "code",
   "execution_count": 31,
   "metadata": {},
   "outputs": [],
   "source": [
    "list= list(fire_shp['YEAR']).sort()b"
   ]
  },
  {
   "cell_type": "code",
   "execution_count": null,
   "metadata": {},
   "outputs": [],
   "source": []
  },
  {
   "cell_type": "code",
   "execution_count": 3,
   "metadata": {},
   "outputs": [
    {
     "data": {
      "text/plain": [
       "<Projected CRS: PROJCS[\"NAD_1983_Lambert_Conformal_Conic\",GEOGCS[\" ...>\n",
       "Name: NAD_1983_Lambert_Conformal_Conic\n",
       "Axis Info [cartesian]:\n",
       "- [east]: Easting (metre)\n",
       "- [north]: Northing (metre)\n",
       "Area of Use:\n",
       "- undefined\n",
       "Coordinate Operation:\n",
       "- name: unnamed\n",
       "- method: Lambert Conic Conformal (2SP)\n",
       "Datum: North American Datum 1983\n",
       "- Ellipsoid: GRS 1980\n",
       "- Prime Meridian: Greenwich"
      ]
     },
     "execution_count": 3,
     "metadata": {},
     "output_type": "execute_result"
    }
   ],
   "source": [
    "fire_shp.crs"
   ]
  },
  {
   "cell_type": "code",
   "execution_count": 24,
   "metadata": {},
   "outputs": [
    {
     "data": {
      "text/plain": [
       "0        2004\n",
       "1        2004\n",
       "2        2004\n",
       "3        2004\n",
       "4        2004\n",
       "         ... \n",
       "26870    1994\n",
       "26871    1994\n",
       "26872    1994\n",
       "26873    1992\n",
       "26874    1992\n",
       "Name: YEAR, Length: 26875, dtype: int64"
      ]
     },
     "execution_count": 24,
     "metadata": {},
     "output_type": "execute_result"
    }
   ],
   "source": [
    "fire_shp['YEAR']"
   ]
  },
  {
   "cell_type": "markdown",
   "metadata": {},
   "source": [
    "Above we looked at the crs. The crs is a coordinate reference system that tells us the type of coordinate reference projections table is using for the fire locations. This is crucial to know as we are goiing to be merging 2 different geographically based tables and their respective projections must match!"
   ]
  },
  {
   "cell_type": "code",
   "execution_count": 10,
   "metadata": {},
   "outputs": [
    {
     "data": {
      "text/plain": [
       "Index(['SRC_AGENCY', 'FIRE_ID', 'FIRENAME', 'YEAR', 'MONTH', 'DAY', 'REP_DATE',\n",
       "       'DATE_TYPE', 'OUT_DATE', 'DECADE', 'SIZE_HA', 'CALC_HA', 'CAUSE',\n",
       "       'MAP_SOURCE', 'SOURCE_KEY', 'MAP_METHOD', 'WATER_REM', 'UNBURN_REM',\n",
       "       'MORE_INFO', 'POLY_DATE', 'CFS_REF_ID', 'CFS_NOTE1', 'CFS_NOTE2',\n",
       "       'AG_SRCFILE', 'ACQ_DATE', 'SRC_AGY2', 'geometry'],\n",
       "      dtype='object')"
      ]
     },
     "execution_count": 10,
     "metadata": {},
     "output_type": "execute_result"
    }
   ],
   "source": [
    "fire_shp.columns"
   ]
  },
  {
   "cell_type": "code",
   "execution_count": 11,
   "metadata": {},
   "outputs": [
    {
     "data": {
      "text/plain": [
       "SRC_AGENCY        0\n",
       "FIRE_ID        6369\n",
       "FIRENAME      55287\n",
       "YEAR              0\n",
       "MONTH             0\n",
       "DAY               0\n",
       "REP_DATE      11994\n",
       "DATE_TYPE     22671\n",
       "OUT_DATE      48911\n",
       "DECADE            0\n",
       "SIZE_HA           0\n",
       "CALC_HA           0\n",
       "CAUSE             0\n",
       "MAP_SOURCE    16765\n",
       "SOURCE_KEY    53896\n",
       "MAP_METHOD    26161\n",
       "WATER_REM     54998\n",
       "UNBURN_REM    54998\n",
       "MORE_INFO     45887\n",
       "POLY_DATE     32350\n",
       "CFS_REF_ID        0\n",
       "CFS_NOTE1     47633\n",
       "CFS_NOTE2     52367\n",
       "AG_SRCFILE    26429\n",
       "ACQ_DATE         43\n",
       "SRC_AGY2          0\n",
       "geometry          0\n",
       "dtype: int64"
      ]
     },
     "execution_count": 11,
     "metadata": {},
     "output_type": "execute_result"
    }
   ],
   "source": [
    "fire_shp.isna().sum()"
   ]
  },
  {
   "cell_type": "markdown",
   "metadata": {},
   "source": [
    "We can see that there are alot of columns with missing data. Fortunately, We'll only be looking at 'YEAR','MONTH','geometry','SRC_AGY2', which all have no missing data. "
   ]
  },
  {
   "cell_type": "code",
   "execution_count": 12,
   "metadata": {},
   "outputs": [
    {
     "data": {
      "text/plain": [
       "False    59538\n",
       "True         1\n",
       "Name: count, dtype: int64"
      ]
     },
     "execution_count": 12,
     "metadata": {},
     "output_type": "execute_result"
    }
   ],
   "source": [
    "fire_shp.duplicated().value_counts()"
   ]
  },
  {
   "cell_type": "code",
   "execution_count": 13,
   "metadata": {},
   "outputs": [],
   "source": [
    "fire_shp.drop_duplicates(inplace=True)"
   ]
  },
  {
   "cell_type": "code",
   "execution_count": 14,
   "metadata": {},
   "outputs": [
    {
     "data": {
      "text/plain": [
       "False    59538\n",
       "Name: count, dtype: int64"
      ]
     },
     "execution_count": 14,
     "metadata": {},
     "output_type": "execute_result"
    }
   ],
   "source": [
    "fire_shp.duplicated().value_counts()"
   ]
  },
  {
   "cell_type": "code",
   "execution_count": 15,
   "metadata": {},
   "outputs": [
    {
     "data": {
      "text/plain": [
       "MONTH\n",
       "7     13887\n",
       "0     11970\n",
       "6     10018\n",
       "8      8714\n",
       "5      8097\n",
       "4      3156\n",
       "9      2406\n",
       "10      812\n",
       "3       256\n",
       "11       90\n",
       "2        50\n",
       "12       47\n",
       "1        35\n",
       "Name: count, dtype: int64"
      ]
     },
     "execution_count": 15,
     "metadata": {},
     "output_type": "execute_result"
    }
   ],
   "source": [
    "fire_shp['MONTH'].value_counts()"
   ]
  },
  {
   "cell_type": "markdown",
   "metadata": {},
   "source": [
    "There appears to be about 12,000 rows labelled as month 0. Let's see if we can redeem them by using either the reporting date or the out date. "
   ]
  },
  {
   "cell_type": "code",
   "execution_count": 16,
   "metadata": {},
   "outputs": [
    {
     "data": {
      "text/html": [
       "<div>\n",
       "<style scoped>\n",
       "    .dataframe tbody tr th:only-of-type {\n",
       "        vertical-align: middle;\n",
       "    }\n",
       "\n",
       "    .dataframe tbody tr th {\n",
       "        vertical-align: top;\n",
       "    }\n",
       "\n",
       "    .dataframe thead th {\n",
       "        text-align: right;\n",
       "    }\n",
       "</style>\n",
       "<table border=\"1\" class=\"dataframe\">\n",
       "  <thead>\n",
       "    <tr style=\"text-align: right;\">\n",
       "      <th></th>\n",
       "      <th>SRC_AGENCY</th>\n",
       "      <th>FIRE_ID</th>\n",
       "      <th>FIRENAME</th>\n",
       "      <th>YEAR</th>\n",
       "      <th>MONTH</th>\n",
       "      <th>DAY</th>\n",
       "      <th>REP_DATE</th>\n",
       "      <th>DATE_TYPE</th>\n",
       "      <th>OUT_DATE</th>\n",
       "      <th>DECADE</th>\n",
       "      <th>...</th>\n",
       "      <th>UNBURN_REM</th>\n",
       "      <th>MORE_INFO</th>\n",
       "      <th>POLY_DATE</th>\n",
       "      <th>CFS_REF_ID</th>\n",
       "      <th>CFS_NOTE1</th>\n",
       "      <th>CFS_NOTE2</th>\n",
       "      <th>AG_SRCFILE</th>\n",
       "      <th>ACQ_DATE</th>\n",
       "      <th>SRC_AGY2</th>\n",
       "      <th>geometry</th>\n",
       "    </tr>\n",
       "  </thead>\n",
       "  <tbody>\n",
       "    <tr>\n",
       "      <th>21250</th>\n",
       "      <td>AB</td>\n",
       "      <td>00119A</td>\n",
       "      <td>None</td>\n",
       "      <td>1954</td>\n",
       "      <td>0</td>\n",
       "      <td>0</td>\n",
       "      <td>None</td>\n",
       "      <td>None</td>\n",
       "      <td>None</td>\n",
       "      <td>1950-1959</td>\n",
       "      <td>...</td>\n",
       "      <td>None</td>\n",
       "      <td>None</td>\n",
       "      <td>None</td>\n",
       "      <td>AB-1954-00119A</td>\n",
       "      <td>None</td>\n",
       "      <td>None</td>\n",
       "      <td>WildfirePerimeters1931to2011</td>\n",
       "      <td>2012-05-08</td>\n",
       "      <td>AB</td>\n",
       "      <td>POLYGON Z ((-1315065.000 925631.188 0.000, -13...</td>\n",
       "    </tr>\n",
       "    <tr>\n",
       "      <th>21251</th>\n",
       "      <td>AB</td>\n",
       "      <td>002002</td>\n",
       "      <td>None</td>\n",
       "      <td>1956</td>\n",
       "      <td>0</td>\n",
       "      <td>0</td>\n",
       "      <td>None</td>\n",
       "      <td>None</td>\n",
       "      <td>None</td>\n",
       "      <td>1950-1959</td>\n",
       "      <td>...</td>\n",
       "      <td>None</td>\n",
       "      <td>None</td>\n",
       "      <td>None</td>\n",
       "      <td>AB-1956-002002</td>\n",
       "      <td>None</td>\n",
       "      <td>None</td>\n",
       "      <td>WildfirePerimeters1931to2011</td>\n",
       "      <td>2012-05-08</td>\n",
       "      <td>AB</td>\n",
       "      <td>POLYGON Z ((-1310576.375 598147.375 0.000, -13...</td>\n",
       "    </tr>\n",
       "    <tr>\n",
       "      <th>21252</th>\n",
       "      <td>AB</td>\n",
       "      <td>002004</td>\n",
       "      <td>Open Creek Wildfire</td>\n",
       "      <td>1958</td>\n",
       "      <td>0</td>\n",
       "      <td>0</td>\n",
       "      <td>None</td>\n",
       "      <td>None</td>\n",
       "      <td>None</td>\n",
       "      <td>1950-1959</td>\n",
       "      <td>...</td>\n",
       "      <td>None</td>\n",
       "      <td>map includes areas of partial burn. Refer to A...</td>\n",
       "      <td>None</td>\n",
       "      <td>AB-1958-002004</td>\n",
       "      <td>None</td>\n",
       "      <td>None</td>\n",
       "      <td>WildfirePerimeters1931to2011</td>\n",
       "      <td>2012-05-08</td>\n",
       "      <td>AB</td>\n",
       "      <td>POLYGON Z ((-1297601.051 605680.875 0.000, -12...</td>\n",
       "    </tr>\n",
       "    <tr>\n",
       "      <th>21253</th>\n",
       "      <td>AB</td>\n",
       "      <td>003001</td>\n",
       "      <td>None</td>\n",
       "      <td>1955</td>\n",
       "      <td>0</td>\n",
       "      <td>0</td>\n",
       "      <td>None</td>\n",
       "      <td>None</td>\n",
       "      <td>None</td>\n",
       "      <td>1950-1959</td>\n",
       "      <td>...</td>\n",
       "      <td>None</td>\n",
       "      <td>None</td>\n",
       "      <td>None</td>\n",
       "      <td>AB-1955-003001</td>\n",
       "      <td>None</td>\n",
       "      <td>None</td>\n",
       "      <td>WildfirePerimeters1931to2011</td>\n",
       "      <td>2012-05-08</td>\n",
       "      <td>AB</td>\n",
       "      <td>POLYGON Z ((-1311286.750 641550.626 0.000, -13...</td>\n",
       "    </tr>\n",
       "    <tr>\n",
       "      <th>21254</th>\n",
       "      <td>AB</td>\n",
       "      <td>003001</td>\n",
       "      <td>None</td>\n",
       "      <td>1960</td>\n",
       "      <td>0</td>\n",
       "      <td>0</td>\n",
       "      <td>None</td>\n",
       "      <td>None</td>\n",
       "      <td>None</td>\n",
       "      <td>1960-1969</td>\n",
       "      <td>...</td>\n",
       "      <td>None</td>\n",
       "      <td>None</td>\n",
       "      <td>None</td>\n",
       "      <td>AB-1960-003001</td>\n",
       "      <td>None</td>\n",
       "      <td>None</td>\n",
       "      <td>WildfirePerimeters1931to2011</td>\n",
       "      <td>2012-05-08</td>\n",
       "      <td>AB</td>\n",
       "      <td>POLYGON Z ((-1293034.149 612751.447 0.000, -12...</td>\n",
       "    </tr>\n",
       "    <tr>\n",
       "      <th>...</th>\n",
       "      <td>...</td>\n",
       "      <td>...</td>\n",
       "      <td>...</td>\n",
       "      <td>...</td>\n",
       "      <td>...</td>\n",
       "      <td>...</td>\n",
       "      <td>...</td>\n",
       "      <td>...</td>\n",
       "      <td>...</td>\n",
       "      <td>...</td>\n",
       "      <td>...</td>\n",
       "      <td>...</td>\n",
       "      <td>...</td>\n",
       "      <td>...</td>\n",
       "      <td>...</td>\n",
       "      <td>...</td>\n",
       "      <td>...</td>\n",
       "      <td>...</td>\n",
       "      <td>...</td>\n",
       "      <td>...</td>\n",
       "      <td>...</td>\n",
       "    </tr>\n",
       "    <tr>\n",
       "      <th>59534</th>\n",
       "      <td>PC-NI</td>\n",
       "      <td>94NI001</td>\n",
       "      <td>None</td>\n",
       "      <td>1994</td>\n",
       "      <td>0</td>\n",
       "      <td>0</td>\n",
       "      <td>None</td>\n",
       "      <td>None</td>\n",
       "      <td>None</td>\n",
       "      <td>1990-1999</td>\n",
       "      <td>...</td>\n",
       "      <td>None</td>\n",
       "      <td>None</td>\n",
       "      <td>None</td>\n",
       "      <td>PC-NI-1994-94NI001</td>\n",
       "      <td>included from PC-NA/NI</td>\n",
       "      <td>None</td>\n",
       "      <td>None</td>\n",
       "      <td>2017-11-29</td>\n",
       "      <td>PC</td>\n",
       "      <td>MULTIPOLYGON Z (((-1614593.075 1938374.232 0.0...</td>\n",
       "    </tr>\n",
       "    <tr>\n",
       "      <th>59535</th>\n",
       "      <td>PC-NI</td>\n",
       "      <td>04NI001</td>\n",
       "      <td>None</td>\n",
       "      <td>2004</td>\n",
       "      <td>0</td>\n",
       "      <td>0</td>\n",
       "      <td>None</td>\n",
       "      <td>None</td>\n",
       "      <td>None</td>\n",
       "      <td>2000-2009</td>\n",
       "      <td>...</td>\n",
       "      <td>None</td>\n",
       "      <td>None</td>\n",
       "      <td>None</td>\n",
       "      <td>PC-NI-2004-04NI001</td>\n",
       "      <td>included from PC-NA/NI</td>\n",
       "      <td>None</td>\n",
       "      <td>None</td>\n",
       "      <td>2017-11-29</td>\n",
       "      <td>PC</td>\n",
       "      <td>POLYGON Z ((-1610555.586 1924687.995 0.000, -1...</td>\n",
       "    </tr>\n",
       "    <tr>\n",
       "      <th>59536</th>\n",
       "      <td>PC-NI</td>\n",
       "      <td>05NI001</td>\n",
       "      <td>None</td>\n",
       "      <td>2005</td>\n",
       "      <td>0</td>\n",
       "      <td>0</td>\n",
       "      <td>None</td>\n",
       "      <td>None</td>\n",
       "      <td>None</td>\n",
       "      <td>2000-2009</td>\n",
       "      <td>...</td>\n",
       "      <td>None</td>\n",
       "      <td>None</td>\n",
       "      <td>None</td>\n",
       "      <td>PC-NI-2005-05NI001</td>\n",
       "      <td>included from PC-NA/NI</td>\n",
       "      <td>None</td>\n",
       "      <td>None</td>\n",
       "      <td>2017-11-29</td>\n",
       "      <td>PC</td>\n",
       "      <td>POLYGON Z ((-1623563.822 1973289.242 0.000, -1...</td>\n",
       "    </tr>\n",
       "    <tr>\n",
       "      <th>59537</th>\n",
       "      <td>PC-NI</td>\n",
       "      <td>09NI001</td>\n",
       "      <td>None</td>\n",
       "      <td>2009</td>\n",
       "      <td>0</td>\n",
       "      <td>0</td>\n",
       "      <td>None</td>\n",
       "      <td>None</td>\n",
       "      <td>None</td>\n",
       "      <td>2000-2009</td>\n",
       "      <td>...</td>\n",
       "      <td>None</td>\n",
       "      <td>None</td>\n",
       "      <td>None</td>\n",
       "      <td>PC-NI-2009-09NI001</td>\n",
       "      <td>included from PC-NA/NI</td>\n",
       "      <td>None</td>\n",
       "      <td>None</td>\n",
       "      <td>2017-11-29</td>\n",
       "      <td>PC</td>\n",
       "      <td>POLYGON Z ((-1627684.086 1900898.042 0.000, -1...</td>\n",
       "    </tr>\n",
       "    <tr>\n",
       "      <th>59538</th>\n",
       "      <td>PC-NI</td>\n",
       "      <td>15NI001</td>\n",
       "      <td>None</td>\n",
       "      <td>2015</td>\n",
       "      <td>0</td>\n",
       "      <td>0</td>\n",
       "      <td>None</td>\n",
       "      <td>None</td>\n",
       "      <td>None</td>\n",
       "      <td>2010-2019</td>\n",
       "      <td>...</td>\n",
       "      <td>None</td>\n",
       "      <td>None</td>\n",
       "      <td>None</td>\n",
       "      <td>PC-NI-2015-15NI001</td>\n",
       "      <td>None</td>\n",
       "      <td>None</td>\n",
       "      <td>None</td>\n",
       "      <td>2017-11-29</td>\n",
       "      <td>PC</td>\n",
       "      <td>POLYGON Z ((-1610833.787 1919846.922 0.000, -1...</td>\n",
       "    </tr>\n",
       "  </tbody>\n",
       "</table>\n",
       "<p>11970 rows × 27 columns</p>\n",
       "</div>"
      ],
      "text/plain": [
       "      SRC_AGENCY  FIRE_ID             FIRENAME  YEAR  MONTH  DAY REP_DATE  \\\n",
       "21250         AB   00119A                 None  1954      0    0     None   \n",
       "21251         AB   002002                 None  1956      0    0     None   \n",
       "21252         AB   002004  Open Creek Wildfire  1958      0    0     None   \n",
       "21253         AB   003001                 None  1955      0    0     None   \n",
       "21254         AB   003001                 None  1960      0    0     None   \n",
       "...          ...      ...                  ...   ...    ...  ...      ...   \n",
       "59534      PC-NI  94NI001                 None  1994      0    0     None   \n",
       "59535      PC-NI  04NI001                 None  2004      0    0     None   \n",
       "59536      PC-NI  05NI001                 None  2005      0    0     None   \n",
       "59537      PC-NI  09NI001                 None  2009      0    0     None   \n",
       "59538      PC-NI  15NI001                 None  2015      0    0     None   \n",
       "\n",
       "      DATE_TYPE OUT_DATE     DECADE  ...  UNBURN_REM  \\\n",
       "21250      None     None  1950-1959  ...        None   \n",
       "21251      None     None  1950-1959  ...        None   \n",
       "21252      None     None  1950-1959  ...        None   \n",
       "21253      None     None  1950-1959  ...        None   \n",
       "21254      None     None  1960-1969  ...        None   \n",
       "...         ...      ...        ...  ...         ...   \n",
       "59534      None     None  1990-1999  ...        None   \n",
       "59535      None     None  2000-2009  ...        None   \n",
       "59536      None     None  2000-2009  ...        None   \n",
       "59537      None     None  2000-2009  ...        None   \n",
       "59538      None     None  2010-2019  ...        None   \n",
       "\n",
       "                                               MORE_INFO POLY_DATE  \\\n",
       "21250                                               None      None   \n",
       "21251                                               None      None   \n",
       "21252  map includes areas of partial burn. Refer to A...      None   \n",
       "21253                                               None      None   \n",
       "21254                                               None      None   \n",
       "...                                                  ...       ...   \n",
       "59534                                               None      None   \n",
       "59535                                               None      None   \n",
       "59536                                               None      None   \n",
       "59537                                               None      None   \n",
       "59538                                               None      None   \n",
       "\n",
       "               CFS_REF_ID               CFS_NOTE1 CFS_NOTE2  \\\n",
       "21250      AB-1954-00119A                    None      None   \n",
       "21251      AB-1956-002002                    None      None   \n",
       "21252      AB-1958-002004                    None      None   \n",
       "21253      AB-1955-003001                    None      None   \n",
       "21254      AB-1960-003001                    None      None   \n",
       "...                   ...                     ...       ...   \n",
       "59534  PC-NI-1994-94NI001  included from PC-NA/NI      None   \n",
       "59535  PC-NI-2004-04NI001  included from PC-NA/NI      None   \n",
       "59536  PC-NI-2005-05NI001  included from PC-NA/NI      None   \n",
       "59537  PC-NI-2009-09NI001  included from PC-NA/NI      None   \n",
       "59538  PC-NI-2015-15NI001                    None      None   \n",
       "\n",
       "                         AG_SRCFILE    ACQ_DATE SRC_AGY2  \\\n",
       "21250  WildfirePerimeters1931to2011  2012-05-08       AB   \n",
       "21251  WildfirePerimeters1931to2011  2012-05-08       AB   \n",
       "21252  WildfirePerimeters1931to2011  2012-05-08       AB   \n",
       "21253  WildfirePerimeters1931to2011  2012-05-08       AB   \n",
       "21254  WildfirePerimeters1931to2011  2012-05-08       AB   \n",
       "...                             ...         ...      ...   \n",
       "59534                          None  2017-11-29       PC   \n",
       "59535                          None  2017-11-29       PC   \n",
       "59536                          None  2017-11-29       PC   \n",
       "59537                          None  2017-11-29       PC   \n",
       "59538                          None  2017-11-29       PC   \n",
       "\n",
       "                                                geometry  \n",
       "21250  POLYGON Z ((-1315065.000 925631.188 0.000, -13...  \n",
       "21251  POLYGON Z ((-1310576.375 598147.375 0.000, -13...  \n",
       "21252  POLYGON Z ((-1297601.051 605680.875 0.000, -12...  \n",
       "21253  POLYGON Z ((-1311286.750 641550.626 0.000, -13...  \n",
       "21254  POLYGON Z ((-1293034.149 612751.447 0.000, -12...  \n",
       "...                                                  ...  \n",
       "59534  MULTIPOLYGON Z (((-1614593.075 1938374.232 0.0...  \n",
       "59535  POLYGON Z ((-1610555.586 1924687.995 0.000, -1...  \n",
       "59536  POLYGON Z ((-1623563.822 1973289.242 0.000, -1...  \n",
       "59537  POLYGON Z ((-1627684.086 1900898.042 0.000, -1...  \n",
       "59538  POLYGON Z ((-1610833.787 1919846.922 0.000, -1...  \n",
       "\n",
       "[11970 rows x 27 columns]"
      ]
     },
     "execution_count": 16,
     "metadata": {},
     "output_type": "execute_result"
    }
   ],
   "source": [
    "fire_shp[fire_shp['MONTH']==0]"
   ]
  },
  {
   "cell_type": "markdown",
   "metadata": {},
   "source": [
    "Seems like there's no data for reporting date or out date for those rows where the months are labelled as 0. Let's go ahead and drop those rows."
   ]
  },
  {
   "cell_type": "code",
   "execution_count": 17,
   "metadata": {},
   "outputs": [],
   "source": [
    "fire_shp.drop(fire_shp[fire_shp['MONTH']==0].index,inplace=True,axis=0)"
   ]
  },
  {
   "cell_type": "code",
   "execution_count": 18,
   "metadata": {},
   "outputs": [
    {
     "data": {
      "text/plain": [
       "MONTH\n",
       "7     13887\n",
       "6     10018\n",
       "8      8714\n",
       "5      8097\n",
       "4      3156\n",
       "9      2406\n",
       "10      812\n",
       "3       256\n",
       "11       90\n",
       "2        50\n",
       "12       47\n",
       "1        35\n",
       "Name: count, dtype: int64"
      ]
     },
     "execution_count": 18,
     "metadata": {},
     "output_type": "execute_result"
    }
   ],
   "source": [
    "fire_shp['MONTH'].value_counts()"
   ]
  },
  {
   "cell_type": "markdown",
   "metadata": {},
   "source": [
    "The rows with the months labelled as 0 have been removed. Let's clean up the table and leave the necessary columns. \n",
    "Let's drop the following columns as we will not be needing them for the final project. The only information we need is the geometry and the year and month columns. We will concat this informaiton to the weather data to determine whether there was a fire or not during within the month and what the weather was at the time. "
   ]
  },
  {
   "cell_type": "code",
   "execution_count": 19,
   "metadata": {},
   "outputs": [],
   "source": [
    "fire_shp = fire_shp.loc[:,['YEAR','MONTH','geometry','SRC_AGY2']]"
   ]
  },
  {
   "cell_type": "code",
   "execution_count": 20,
   "metadata": {},
   "outputs": [
    {
     "data": {
      "text/plain": [
       "YEAR        0\n",
       "MONTH       0\n",
       "geometry    0\n",
       "SRC_AGY2    0\n",
       "dtype: int64"
      ]
     },
     "execution_count": 20,
     "metadata": {},
     "output_type": "execute_result"
    }
   ],
   "source": [
    "fire_shp.isna().sum()"
   ]
  },
  {
   "cell_type": "markdown",
   "metadata": {},
   "source": [
    "Let's now look at only fires from 1990, since that is the scope of our project:"
   ]
  },
  {
   "cell_type": "code",
   "execution_count": 21,
   "metadata": {},
   "outputs": [],
   "source": [
    "fire_shp = fire_shp[fire_shp['YEAR'] > 1990]"
   ]
  },
  {
   "cell_type": "code",
   "execution_count": 22,
   "metadata": {},
   "outputs": [],
   "source": [
    "fire_shp.reset_index(drop=True,inplace=True)"
   ]
  },
  {
   "cell_type": "code",
   "execution_count": 23,
   "metadata": {},
   "outputs": [
    {
     "data": {
      "text/plain": [
       "(26875, 4)"
      ]
     },
     "execution_count": 23,
     "metadata": {},
     "output_type": "execute_result"
    }
   ],
   "source": [
    "fire_shp.shape"
   ]
  },
  {
   "cell_type": "code",
   "execution_count": 16,
   "metadata": {},
   "outputs": [],
   "source": [
    "fire_shp.to_file('Data/Fire_Data/fire_date_geo.shp')"
   ]
  },
  {
   "cell_type": "code",
   "execution_count": null,
   "metadata": {},
   "outputs": [],
   "source": []
  }
 ],
 "metadata": {
  "kernelspec": {
   "display_name": "capstone_env",
   "language": "python",
   "name": "python3"
  },
  "language_info": {
   "codemirror_mode": {
    "name": "ipython",
    "version": 3
   },
   "file_extension": ".py",
   "mimetype": "text/x-python",
   "name": "python",
   "nbconvert_exporter": "python",
   "pygments_lexer": "ipython3",
   "version": "3.12.3"
  }
 },
 "nbformat": 4,
 "nbformat_minor": 2
}
