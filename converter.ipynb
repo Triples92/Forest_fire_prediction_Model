{
 "cells": [
  {
   "cell_type": "code",
   "execution_count": null,
   "metadata": {},
   "outputs": [],
   "source": []
  },
  {
   "cell_type": "code",
   "execution_count": 2,
   "metadata": {},
   "outputs": [],
   "source": [
    "import geopandas as gpd\n",
    "import pandas as pd\n",
    "import os"
   ]
  },
  {
   "cell_type": "code",
   "execution_count": 3,
   "metadata": {},
   "outputs": [],
   "source": [
    "geo_data = gpd.read_file('Data/nbac_2006_r9_20210810.shx')\n",
    "geo_data = geo_data.set_crs(epsg=3979,allow_override=True)\n",
    "geo_data = geo_data.to_crs(epsg=4326)\n",
    "\n",
    "geo_data_df = pd.DataFrame(geo_data)\n"
   ]
  },
  {
   "cell_type": "code",
   "execution_count": 3,
   "metadata": {},
   "outputs": [
    {
     "data": {
      "text/html": [
       "<div>\n",
       "<style scoped>\n",
       "    .dataframe tbody tr th:only-of-type {\n",
       "        vertical-align: middle;\n",
       "    }\n",
       "\n",
       "    .dataframe tbody tr th {\n",
       "        vertical-align: top;\n",
       "    }\n",
       "\n",
       "    .dataframe thead th {\n",
       "        text-align: right;\n",
       "    }\n",
       "</style>\n",
       "<table border=\"1\" class=\"dataframe\">\n",
       "  <thead>\n",
       "    <tr style=\"text-align: right;\">\n",
       "      <th></th>\n",
       "      <th>YEAR</th>\n",
       "      <th>NFIREID</th>\n",
       "      <th>BASRC</th>\n",
       "      <th>FIREMAPS</th>\n",
       "      <th>FIREMAPM</th>\n",
       "      <th>FIRECAUS</th>\n",
       "      <th>BURNCLAS</th>\n",
       "      <th>SDATE</th>\n",
       "      <th>EDATE</th>\n",
       "      <th>AFSDATE</th>\n",
       "      <th>AFEDATE</th>\n",
       "      <th>CAPDATE</th>\n",
       "      <th>POLY_HA</th>\n",
       "      <th>ADJ_HA</th>\n",
       "      <th>ADJ_FLAG</th>\n",
       "      <th>AGENCY</th>\n",
       "      <th>BT_GID</th>\n",
       "      <th>VERSION</th>\n",
       "      <th>COMMENTS</th>\n",
       "      <th>geometry</th>\n",
       "    </tr>\n",
       "  </thead>\n",
       "  <tbody>\n",
       "    <tr>\n",
       "      <th>0</th>\n",
       "      <td>2006.0</td>\n",
       "      <td>400.0</td>\n",
       "      <td>1.0</td>\n",
       "      <td>9.0</td>\n",
       "      <td>7.0</td>\n",
       "      <td>2.0</td>\n",
       "      <td>4.0</td>\n",
       "      <td>2006-06-30</td>\n",
       "      <td>2006-07-05</td>\n",
       "      <td>2006-06-30</td>\n",
       "      <td>2006-07-14</td>\n",
       "      <td>2006-09-19</td>\n",
       "      <td>3369.140836</td>\n",
       "      <td>3369.140836</td>\n",
       "      <td>0.0</td>\n",
       "      <td>SK</td>\n",
       "      <td>1.0</td>\n",
       "      <td>2006_r9_20210810</td>\n",
       "      <td>Null</td>\n",
       "      <td>MULTIPOLYGON (((-103.34036 55.88523, -103.3408...</td>\n",
       "    </tr>\n",
       "    <tr>\n",
       "      <th>1</th>\n",
       "      <td>2006.0</td>\n",
       "      <td>690.0</td>\n",
       "      <td>1.0</td>\n",
       "      <td>9.0</td>\n",
       "      <td>7.0</td>\n",
       "      <td>2.0</td>\n",
       "      <td>4.0</td>\n",
       "      <td>2006-09-12</td>\n",
       "      <td>2006-09-15</td>\n",
       "      <td>2006-09-08</td>\n",
       "      <td>2006-11-02</td>\n",
       "      <td>2007-08-08</td>\n",
       "      <td>1340.612771</td>\n",
       "      <td>1340.612771</td>\n",
       "      <td>0.0</td>\n",
       "      <td>ON</td>\n",
       "      <td>11.0</td>\n",
       "      <td>2006_r9_20210810</td>\n",
       "      <td>Null</td>\n",
       "      <td>MULTIPOLYGON (((-90.24006 49.43092, -90.24004 ...</td>\n",
       "    </tr>\n",
       "    <tr>\n",
       "      <th>2</th>\n",
       "      <td>2006.0</td>\n",
       "      <td>520.0</td>\n",
       "      <td>1.0</td>\n",
       "      <td>9.0</td>\n",
       "      <td>7.0</td>\n",
       "      <td>2.0</td>\n",
       "      <td>4.0</td>\n",
       "      <td>2006-06-08</td>\n",
       "      <td>2006-06-16</td>\n",
       "      <td>2006-06-07</td>\n",
       "      <td>2006-07-14</td>\n",
       "      <td>2006-09-07</td>\n",
       "      <td>14130.117358</td>\n",
       "      <td>14130.117358</td>\n",
       "      <td>0.0</td>\n",
       "      <td>QC</td>\n",
       "      <td>10.0</td>\n",
       "      <td>2006_r9_20210810</td>\n",
       "      <td>Null</td>\n",
       "      <td>MULTIPOLYGON (((-74.81377 51.83774, -74.81377 ...</td>\n",
       "    </tr>\n",
       "    <tr>\n",
       "      <th>3</th>\n",
       "      <td>2006.0</td>\n",
       "      <td>432.0</td>\n",
       "      <td>1.0</td>\n",
       "      <td>9.0</td>\n",
       "      <td>7.0</td>\n",
       "      <td>2.0</td>\n",
       "      <td>4.0</td>\n",
       "      <td>2006-06-29</td>\n",
       "      <td>2006-07-05</td>\n",
       "      <td>2006-06-28</td>\n",
       "      <td>2006-08-05</td>\n",
       "      <td>2007-06-16</td>\n",
       "      <td>12997.158776</td>\n",
       "      <td>12997.158776</td>\n",
       "      <td>0.0</td>\n",
       "      <td>SK</td>\n",
       "      <td>6.0</td>\n",
       "      <td>2006_r9_20210810</td>\n",
       "      <td>RSkakun: No visual evidence of salvaging; I lo...</td>\n",
       "      <td>MULTIPOLYGON (((-107.23899 55.01723, -107.2389...</td>\n",
       "    </tr>\n",
       "    <tr>\n",
       "      <th>4</th>\n",
       "      <td>2006.0</td>\n",
       "      <td>731.0</td>\n",
       "      <td>1.0</td>\n",
       "      <td>9.0</td>\n",
       "      <td>7.0</td>\n",
       "      <td>2.0</td>\n",
       "      <td>4.0</td>\n",
       "      <td>2006-06-30</td>\n",
       "      <td>2006-06-30</td>\n",
       "      <td>2006-06-30</td>\n",
       "      <td>2006-07-22</td>\n",
       "      <td>2006-09-19</td>\n",
       "      <td>813.400190</td>\n",
       "      <td>813.400190</td>\n",
       "      <td>0.0</td>\n",
       "      <td>SK</td>\n",
       "      <td>3.0</td>\n",
       "      <td>2006_r9_20210810</td>\n",
       "      <td>Null</td>\n",
       "      <td>MULTIPOLYGON (((-104.66236 55.64769, -104.6623...</td>\n",
       "    </tr>\n",
       "  </tbody>\n",
       "</table>\n",
       "</div>"
      ],
      "text/plain": [
       "     YEAR  NFIREID  BASRC  FIREMAPS  FIREMAPM  FIRECAUS  BURNCLAS       SDATE  \\\n",
       "0  2006.0    400.0    1.0       9.0       7.0       2.0       4.0  2006-06-30   \n",
       "1  2006.0    690.0    1.0       9.0       7.0       2.0       4.0  2006-09-12   \n",
       "2  2006.0    520.0    1.0       9.0       7.0       2.0       4.0  2006-06-08   \n",
       "3  2006.0    432.0    1.0       9.0       7.0       2.0       4.0  2006-06-29   \n",
       "4  2006.0    731.0    1.0       9.0       7.0       2.0       4.0  2006-06-30   \n",
       "\n",
       "        EDATE     AFSDATE     AFEDATE     CAPDATE       POLY_HA        ADJ_HA  \\\n",
       "0  2006-07-05  2006-06-30  2006-07-14  2006-09-19   3369.140836   3369.140836   \n",
       "1  2006-09-15  2006-09-08  2006-11-02  2007-08-08   1340.612771   1340.612771   \n",
       "2  2006-06-16  2006-06-07  2006-07-14  2006-09-07  14130.117358  14130.117358   \n",
       "3  2006-07-05  2006-06-28  2006-08-05  2007-06-16  12997.158776  12997.158776   \n",
       "4  2006-06-30  2006-06-30  2006-07-22  2006-09-19    813.400190    813.400190   \n",
       "\n",
       "   ADJ_FLAG AGENCY  BT_GID           VERSION  \\\n",
       "0       0.0     SK     1.0  2006_r9_20210810   \n",
       "1       0.0     ON    11.0  2006_r9_20210810   \n",
       "2       0.0     QC    10.0  2006_r9_20210810   \n",
       "3       0.0     SK     6.0  2006_r9_20210810   \n",
       "4       0.0     SK     3.0  2006_r9_20210810   \n",
       "\n",
       "                                            COMMENTS  \\\n",
       "0                                               Null   \n",
       "1                                               Null   \n",
       "2                                               Null   \n",
       "3  RSkakun: No visual evidence of salvaging; I lo...   \n",
       "4                                               Null   \n",
       "\n",
       "                                            geometry  \n",
       "0  MULTIPOLYGON (((-103.34036 55.88523, -103.3408...  \n",
       "1  MULTIPOLYGON (((-90.24006 49.43092, -90.24004 ...  \n",
       "2  MULTIPOLYGON (((-74.81377 51.83774, -74.81377 ...  \n",
       "3  MULTIPOLYGON (((-107.23899 55.01723, -107.2389...  \n",
       "4  MULTIPOLYGON (((-104.66236 55.64769, -104.6623...  "
      ]
     },
     "metadata": {},
     "output_type": "display_data"
    }
   ],
   "source": [
    "display(geo_data.head())"
   ]
  },
  {
   "cell_type": "code",
   "execution_count": 4,
   "metadata": {},
   "outputs": [
    {
     "name": "stdout",
     "output_type": "stream",
     "text": [
      "<class 'geopandas.geodataframe.GeoDataFrame'>\n",
      "RangeIndex: 1598 entries, 0 to 1597\n",
      "Data columns (total 20 columns):\n",
      " #   Column    Non-Null Count  Dtype   \n",
      "---  ------    --------------  -----   \n",
      " 0   YEAR      1598 non-null   float64 \n",
      " 1   NFIREID   1598 non-null   float64 \n",
      " 2   BASRC     1598 non-null   float64 \n",
      " 3   FIREMAPS  1598 non-null   float64 \n",
      " 4   FIREMAPM  1598 non-null   float64 \n",
      " 5   FIRECAUS  1598 non-null   float64 \n",
      " 6   BURNCLAS  1598 non-null   float64 \n",
      " 7   SDATE     469 non-null    object  \n",
      " 8   EDATE     469 non-null    object  \n",
      " 9   AFSDATE   1394 non-null   object  \n",
      " 10  AFEDATE   530 non-null    object  \n",
      " 11  CAPDATE   432 non-null    object  \n",
      " 12  POLY_HA   1598 non-null   float64 \n",
      " 13  ADJ_HA    1598 non-null   float64 \n",
      " 14  ADJ_FLAG  1598 non-null   float64 \n",
      " 15  AGENCY    1598 non-null   object  \n",
      " 16  BT_GID    1598 non-null   float64 \n",
      " 17  VERSION   1598 non-null   object  \n",
      " 18  COMMENTS  1302 non-null   object  \n",
      " 19  geometry  1598 non-null   geometry\n",
      "dtypes: float64(11), geometry(1), object(8)\n",
      "memory usage: 249.8+ KB\n"
     ]
    }
   ],
   "source": [
    "geo_data.info()"
   ]
  },
  {
   "cell_type": "code",
   "execution_count": 5,
   "metadata": {},
   "outputs": [],
   "source": [
    "test= pd.DataFrame(geo_data)"
   ]
  },
  {
   "cell_type": "code",
   "execution_count": 6,
   "metadata": {},
   "outputs": [
    {
     "name": "stdout",
     "output_type": "stream",
     "text": [
      "<class 'pandas.core.frame.DataFrame'>\n",
      "RangeIndex: 1598 entries, 0 to 1597\n",
      "Data columns (total 20 columns):\n",
      " #   Column    Non-Null Count  Dtype   \n",
      "---  ------    --------------  -----   \n",
      " 0   YEAR      1598 non-null   float64 \n",
      " 1   NFIREID   1598 non-null   float64 \n",
      " 2   BASRC     1598 non-null   float64 \n",
      " 3   FIREMAPS  1598 non-null   float64 \n",
      " 4   FIREMAPM  1598 non-null   float64 \n",
      " 5   FIRECAUS  1598 non-null   float64 \n",
      " 6   BURNCLAS  1598 non-null   float64 \n",
      " 7   SDATE     469 non-null    object  \n",
      " 8   EDATE     469 non-null    object  \n",
      " 9   AFSDATE   1394 non-null   object  \n",
      " 10  AFEDATE   530 non-null    object  \n",
      " 11  CAPDATE   432 non-null    object  \n",
      " 12  POLY_HA   1598 non-null   float64 \n",
      " 13  ADJ_HA    1598 non-null   float64 \n",
      " 14  ADJ_FLAG  1598 non-null   float64 \n",
      " 15  AGENCY    1598 non-null   object  \n",
      " 16  BT_GID    1598 non-null   float64 \n",
      " 17  VERSION   1598 non-null   object  \n",
      " 18  COMMENTS  1302 non-null   object  \n",
      " 19  geometry  1598 non-null   geometry\n",
      "dtypes: float64(11), geometry(1), object(8)\n",
      "memory usage: 249.8+ KB\n"
     ]
    }
   ],
   "source": [
    "test.info()"
   ]
  },
  {
   "cell_type": "code",
   "execution_count": 7,
   "metadata": {},
   "outputs": [
    {
     "data": {
      "text/plain": [
       "(1598, 20)"
      ]
     },
     "execution_count": 7,
     "metadata": {},
     "output_type": "execute_result"
    }
   ],
   "source": [
    "test.shape"
   ]
  },
  {
   "cell_type": "code",
   "execution_count": 8,
   "metadata": {},
   "outputs": [],
   "source": [
    "#gpd.GeoSeries.get_coordinates(geo_data['geometry'])"
   ]
  },
  {
   "cell_type": "code",
   "execution_count": null,
   "metadata": {},
   "outputs": [],
   "source": []
  },
  {
   "cell_type": "code",
   "execution_count": 6,
   "metadata": {},
   "outputs": [],
   "source": [
    "\n",
    "extn= '.shx'\n",
    "x=0"
   ]
  },
  {
   "cell_type": "code",
   "execution_count": 10,
   "metadata": {},
   "outputs": [
    {
     "name": "stdout",
     "output_type": "stream",
     "text": [
      "nbac_2005_r9_20210810.shx:(1128, 20)\n",
      "nbac_2013_r9_20210810.shx:(1637, 20)\n",
      "nbac_1993_r9_20210810.shx:(365, 20)\n",
      "nbac_1994_r9_20210810.shx:(701, 20)\n",
      "nbac_2014_r9_20210810.shx:(1410, 20)\n",
      "nbac_2002_r9_20210810.shx:(848, 20)\n"
     ]
    },
    {
     "name": "stderr",
     "output_type": "stream",
     "text": [
      "Exception ignored in: <bound method IPythonKernel._clean_thread_parent_frames of <ipykernel.ipkernel.IPythonKernel object at 0x10b2e1610>>\n",
      "Traceback (most recent call last):\n",
      "  File \"/opt/anaconda3/envs/capstone_env/lib/python3.12/site-packages/ipykernel/ipkernel.py\", line 770, in _clean_thread_parent_frames\n",
      "    def _clean_thread_parent_frames(\n",
      "\n",
      "KeyboardInterrupt: \n"
     ]
    },
    {
     "name": "stdout",
     "output_type": "stream",
     "text": [
      "nbac_1995_r9_20210810.shx:(785, 20)\n",
      "nbac_2015_r9_20210810.shx:(2173, 20)\n",
      "nbac_2003_r9_20210810.shx:(1154, 20)\n"
     ]
    }
   ],
   "source": [
    "#figuring out my data:\n",
    "\n",
    "for files in os.listdir('Data'):\n",
    "    if files.endswith(extn):\n",
    "        table=gpd.read_file(f'Data/{files}')\n",
    "        print(f\"{files}:{table.shape}\")\n",
    "    \n",
    "    else:\n",
    "        continue\n"
   ]
  },
  {
   "cell_type": "markdown",
   "metadata": {},
   "source": [
    "Above I wanted to check to make sure that all my data had the same number of columns. It's safe to assume that since I got the data from the same source, the column names would also all be the same. I will attempt to create a `for` loop to combine all of these rows into one DataFrame. "
   ]
  },
  {
   "cell_type": "code",
   "execution_count": 4,
   "metadata": {},
   "outputs": [],
   "source": [
    "weather_list=[]\n",
    "weather_df=pd.DataFrame()"
   ]
  },
  {
   "cell_type": "code",
   "execution_count": 7,
   "metadata": {},
   "outputs": [],
   "source": [
    "for files in os.listdir('Data'):\n",
    "    if files.endswith(extn):\n",
    "        table=gpd.read_file(f'Data/{files}').to_crs(epsg=3979)\n",
    "        weather_df=pd.concat([weather_df,table])\n",
    "    else:\n",
    "        continue\n"
   ]
  },
  {
   "cell_type": "code",
   "execution_count": 10,
   "metadata": {},
   "outputs": [
    {
     "data": {
      "text/plain": [
       "(35158, 21)"
      ]
     },
     "execution_count": 10,
     "metadata": {},
     "output_type": "execute_result"
    }
   ],
   "source": [
    "weather_df.shape"
   ]
  },
  {
   "cell_type": "code",
   "execution_count": null,
   "metadata": {},
   "outputs": [],
   "source": []
  }
 ],
 "metadata": {
  "kernelspec": {
   "display_name": "capstone_env",
   "language": "python",
   "name": "python3"
  },
  "language_info": {
   "codemirror_mode": {
    "name": "ipython",
    "version": 3
   },
   "file_extension": ".py",
   "mimetype": "text/x-python",
   "name": "python",
   "nbconvert_exporter": "python",
   "pygments_lexer": "ipython3",
   "version": "3.12.3"
  }
 },
 "nbformat": 4,
 "nbformat_minor": 2
}
